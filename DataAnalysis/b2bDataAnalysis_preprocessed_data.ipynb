{
 "cells": [
  {
   "cell_type": "code",
   "execution_count": 31,
   "metadata": {
    "collapsed": true
   },
   "outputs": [],
   "source": [
    "import numpy as np\n",
    "import pandas as pd\n",
    "import seaborn as sns; sns.set()\n",
    "import matplotlib.pyplot as plt\n",
    "\n",
    "pd.options.display.max_columns = 4000\n",
    "pd.options.display.max_rows = 4000\n",
    "pd.options.display.max_seq_items = 4000"
   ]
  },
  {
   "cell_type": "code",
   "execution_count": 32,
   "metadata": {
    "collapsed": true
   },
   "outputs": [],
   "source": [
    "X_train = pd.read_csv('X_train_b2b.csv', index_col=0).as_matrix()\n",
    "X_test = pd.read_csv('X_test_b2b.csv', index_col=0).as_matrix()\n",
    "y_train = pd.read_csv('y_train_b2b.csv', index_col=0).as_matrix()\n",
    "y_test = pd.read_csv('y_test_b2b.csv', index_col=0).as_matrix()\n",
    "\n",
    "salesperson_data = pd.read_csv(\"Salesperson_avg_success_rate.csv\", index_col=0)"
   ]
  },
  {
   "cell_type": "code",
   "execution_count": 33,
   "metadata": {},
   "outputs": [
    {
     "name": "stdout",
     "output_type": "stream",
     "text": [
      "Score of the model: 0.852287581699\n"
     ]
    },
    {
     "name": "stderr",
     "output_type": "stream",
     "text": [
      "/anaconda/lib/python3.6/site-packages/sklearn/utils/validation.py:547: DataConversionWarning: A column-vector y was passed when a 1d array was expected. Please change the shape of y to (n_samples, ), for example using ravel().\n",
      "  y = column_or_1d(y, warn=True)\n"
     ]
    }
   ],
   "source": [
    "from sklearn.linear_model import LogisticRegression\n",
    "\n",
    "log_reg = LogisticRegression().fit(X_train,y_train)\n",
    "print(\"Score of the model: \"+str(log_reg.score(X_test, y_test)))"
   ]
  },
  {
   "cell_type": "code",
   "execution_count": 34,
   "metadata": {
    "scrolled": false
   },
   "outputs": [
    {
     "name": "stdout",
     "output_type": "stream",
     "text": [
      "\n",
      "Salesperson 535671\n",
      "\n",
      "Salesperson 962936\n",
      "\n",
      "Salesperson 904718\n",
      "\n",
      "Salesperson 626202\n",
      "\n",
      "Salesperson 901863\n",
      "\n",
      "Salesperson 270894\n",
      "\n",
      "Salesperson 806082\n",
      "\n",
      "Salesperson 107972\n",
      "\n",
      "Salesperson 538903\n"
     ]
    }
   ],
   "source": [
    "# TEST LEADS INDIVIDUALLY\n",
    "import copy\n",
    "\n",
    "lead = 90\n",
    "skip_columns = 5\n",
    "\n",
    "X_test_sales_person = copy.deepcopy(X_test)\n",
    "\n",
    "for i in range(50):\n",
    "    X_test_sales_person[lead,skip_columns+i] = 0\n",
    "    \n",
    "X_test_sales_person_row = X_test_sales_person[lead,:].reshape(1,-1) \n",
    "    \n",
    "for i in range(50):\n",
    "    X_test_sales_person_row[0][skip_columns+i] = 1\n",
    "\n",
    "    prob = log_reg.predict_proba(X_test_sales_person_row)[0][1]\n",
    "    color = \"Red\"\n",
    "    if prob > 0.7:\n",
    "        color = \"Green\"\n",
    "    elif prob > 0.5:\n",
    "        color = \"Yellow\"\n",
    "    if color == \"Green\":\n",
    "        print(\"\\n\"+salesperson_data.iloc[i,1])\n",
    "\n",
    "    X_test_sales_person_row[0][skip_columns+i] = 0"
   ]
  },
  {
   "cell_type": "code",
   "execution_count": 35,
   "metadata": {
    "scrolled": true
   },
   "outputs": [
    {
     "name": "stdout",
     "output_type": "stream",
     "text": [
      "\n",
      "Salesperson 782680\n",
      "Overall success rate: 0.1125\n",
      "Predicted success rate for this lead: 0.38253693493\n",
      "\n",
      "Salesperson 526132\n",
      "Overall success rate: 0.0208333333333\n",
      "Predicted success rate for this lead: 0.132820960979\n",
      "\n",
      "Salesperson 312434\n",
      "Overall success rate: 0.307692307692\n",
      "Predicted success rate for this lead: 0.538240419244\n",
      "\n",
      "Salesperson 519935\n",
      "Overall success rate: 0.1875\n",
      "Predicted success rate for this lead: 0.325752582554\n",
      "\n",
      "Salesperson 904718\n",
      "Overall success rate: 0.807692307692\n",
      "Predicted success rate for this lead: 0.902824665146\n",
      "\n",
      "Salesperson 909669\n",
      "Overall success rate: 0.0603448275862\n",
      "Predicted success rate for this lead: 0.231705975403\n",
      "\n",
      "Salesperson 495121\n",
      "Overall success rate: 0.113636363636\n",
      "Predicted success rate for this lead: 0.26092063444\n",
      "\n",
      "Salesperson 289836\n",
      "Overall success rate: 0.444444444444\n",
      "Predicted success rate for this lead: 0.544146610576\n",
      "\n",
      "Salesperson 996887\n",
      "Overall success rate: 0.180616740088\n",
      "Predicted success rate for this lead: 0.406022937044\n",
      "\n",
      "Salesperson 169219\n",
      "Overall success rate: 0.347826086957\n",
      "Predicted success rate for this lead: 0.466947386076\n",
      "\n",
      "Salesperson 806082\n",
      "Overall success rate: 0.884210526316\n",
      "Predicted success rate for this lead: 0.901609129478\n",
      "\n",
      "Salesperson 476193\n",
      "Overall success rate: 0.316865417376\n",
      "Predicted success rate for this lead: 0.626031209903\n",
      "\n",
      "Salesperson 178774\n",
      "Overall success rate: 0.0657894736842\n",
      "Predicted success rate for this lead: 0.202825772214\n",
      "\n",
      "Salesperson 831357\n",
      "Overall success rate: 0.38\n",
      "Predicted success rate for this lead: 0.641031416397\n",
      "\n",
      "Salesperson 579549\n",
      "Overall success rate: 0.545454545455\n",
      "Predicted success rate for this lead: 0.596146101328\n",
      "\n",
      "Salesperson 346750\n",
      "Overall success rate: 0.0666666666667\n",
      "Predicted success rate for this lead: 0.375062755261\n",
      "\n",
      "Salesperson 419211\n",
      "Overall success rate: 0.018691588785\n",
      "Predicted success rate for this lead: 0.159661278005\n",
      "\n",
      "Salesperson 598113\n",
      "Overall success rate: 0.432432432432\n",
      "Predicted success rate for this lead: 0.518220353853\n",
      "\n",
      "Salesperson 787554\n",
      "Overall success rate: 0.483870967742\n",
      "Predicted success rate for this lead: 0.660069698715\n",
      "\n",
      "Salesperson 918576\n",
      "Overall success rate: 0.5\n",
      "Predicted success rate for this lead: 0.602826704556\n",
      "\n",
      "Salesperson 946658\n",
      "Overall success rate: 0.333333333333\n",
      "Predicted success rate for this lead: 0.648294215188\n",
      "\n",
      "Salesperson 598660\n",
      "Overall success rate: 0.0727272727273\n",
      "Predicted success rate for this lead: 0.261735886614\n",
      "\n",
      "Salesperson 217232\n",
      "Overall success rate: 0.444444444444\n",
      "Predicted success rate for this lead: 0.685734360522\n",
      "\n",
      "Salesperson 681465\n",
      "Overall success rate: 0.333333333333\n",
      "Predicted success rate for this lead: 0.568359441464\n",
      "\n",
      "Salesperson 991417\n",
      "Overall success rate: 0.111111111111\n",
      "Predicted success rate for this lead: 0.318940406587\n",
      "\n",
      "Salesperson 815578\n",
      "Overall success rate: 0.0285714285714\n",
      "Predicted success rate for this lead: 0.163049161516\n"
     ]
    }
   ],
   "source": [
    "# TEST LEADS INDIVIDUALLY - compare overall success rate vs predicted for specific lead\n",
    "\n",
    "lead = 15\n",
    "\n",
    "for i in range(50):\n",
    "    X_test_sales_person[lead,skip_columns+i] = 0\n",
    "    \n",
    "X_test_sales_person_row = X_test_sales_person[lead,:].reshape(1,-1) \n",
    "    \n",
    "for i in range(50):\n",
    "    X_test_sales_person_row[0][skip_columns+i] = 1\n",
    "\n",
    "    prob = log_reg.predict_proba(X_test_sales_person_row)[0][1]\n",
    "    if prob > salesperson_data.loc[i, 'Overall success rate']:\n",
    "        print(\"\\n\"+salesperson_data.loc[i, 'Salesperson ID'])\n",
    "        print(\"Overall success rate: \"+str(salesperson_data.loc[i, 'Overall success rate']))\n",
    "        print(\"Predicted success rate for this lead: \"+str(prob))\n",
    "    \n",
    "    X_test_sales_person_row[0][skip_columns+i] = 0"
   ]
  },
  {
   "cell_type": "code",
   "execution_count": null,
   "metadata": {
    "collapsed": true
   },
   "outputs": [],
   "source": []
  }
 ],
 "metadata": {
  "kernelspec": {
   "display_name": "Python 3",
   "language": "python",
   "name": "python3"
  },
  "language_info": {
   "codemirror_mode": {
    "name": "ipython",
    "version": 3
   },
   "file_extension": ".py",
   "mimetype": "text/x-python",
   "name": "python",
   "nbconvert_exporter": "python",
   "pygments_lexer": "ipython3",
   "version": "3.6.1"
  }
 },
 "nbformat": 4,
 "nbformat_minor": 2
}
