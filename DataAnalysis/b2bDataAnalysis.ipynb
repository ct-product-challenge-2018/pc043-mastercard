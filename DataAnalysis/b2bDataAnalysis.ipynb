{
 "cells": [
  {
   "cell_type": "code",
   "execution_count": 1,
   "metadata": {
    "collapsed": true
   },
   "outputs": [],
   "source": [
    "import numpy as np\n",
    "import pandas as pd\n",
    "import seaborn as sns; sns.set()\n",
    "import matplotlib.pyplot as plt\n",
    "\n",
    "pd.options.display.max_columns = 4000\n",
    "pd.options.display.max_rows = 4000\n",
    "pd.options.display.max_seq_items = 4000"
   ]
  },
  {
   "cell_type": "code",
   "execution_count": 2,
   "metadata": {
    "collapsed": true
   },
   "outputs": [],
   "source": [
    "datafile = r\"/Users/kathleenszabo/Documents/Cornell Tech/Product Studio/b2bDataAnalysisDataset.xlsx\"\n",
    "data = pd.read_excel(datafile)"
   ]
  },
  {
   "cell_type": "code",
   "execution_count": 3,
   "metadata": {
    "collapsed": true
   },
   "outputs": [],
   "source": [
    "# Same sales person between referring company and listed company\n",
    "\n",
    "for i in range(len(data)):\n",
    "    if pd.isnull(data.iloc[i,4]):\n",
    "        data.loc[i,'Same salesperson as referring company'] = \"Not applicable\"\n",
    "    else:\n",
    "        if data.iloc[i,4][:7] == \"Company\":                \n",
    "            x = np.argwhere(data['Account Name'] == data.iloc[i,4])\n",
    "            if len(x) == 0:\n",
    "                data.loc[i,'Same salesperson as referring company'] = False\n",
    "            else:\n",
    "                assigned_salespeople = data.iloc[x[0],:]\n",
    "                assigned_salespeople = assigned_salespeople['Opportunity Assigned to Full Name']\n",
    "                if data.iloc[i, 2] in assigned_salespeople.item():\n",
    "                    data.loc[i,'Same salesperson as referring company'] = True\n",
    "                else:\n",
    "                    data.loc[i,'Same salesperson as referring company'] = False\n",
    "        else:\n",
    "            data.loc[i,'Same salesperson as referring company'] = \"Not applicable\""
   ]
  },
  {
   "cell_type": "code",
   "execution_count": 4,
   "metadata": {
    "collapsed": true
   },
   "outputs": [],
   "source": [
    "# Assign gender to salespeople\n",
    "\n",
    "gender_list = {\"Angustura Bitter\": \"Male\", \"Aslan in Narnia\": \"Male\", \"Boy 1\": \"Male\", \"Bulubelle Loon\": \"Female\", \n",
    "               \"Celine Dion\": \"Female\", \"Colin Rule\": \"Male\", \"Cruella De Vil\": \"Female\", \"D. Pushover\": \"Male\", \"Danny Kruger\": \"Male\",\n",
    "              \"Daphne Duck\": \"Female\", \"Dell Pizaplace\": \"Female\", \"Donald Duck\": \"Male\", \"Eider Duck\": \"Male\", \"Fethry Duck\": \"Male\", \n",
    "              \"Former Duanne Read SalesGuy\": \"Male\", \"Georg Creepy\": \"Male\", \"Girl 1\": \"Female\", \"Girl 2\": \"Female\",\n",
    "              \"Girl 3\": \"Female\", \"Grandma Duck\": \"Female\", \"Green MileMan\": \"Male\", \"Hanna SadGirl\": \"Female\", \"Hortense McDuck\": \"Male\",\n",
    "              \"Humperdink Duck\": \"Male\", \"Ian Joshua Anderson\": \"Male\", \"James Lawrence\": \"Male\", \"Karan Girotra\": \"Male\",\n",
    "              \"Kathleen Szabo\": \"Female\", \"Khoa Ma\": \"Male\", \"Kristina Ortiz\": \"Female\", \"Kristjan Petursson\": \"Male\",\n",
    "              \"Leonardo Dicaprio\": \"Male\", \"Lulubelle Loon\": \"Female\", \"Manny Babysitter\": \"Male\", \"Mikey Christmas\": \"Male\", \n",
    "                \"Mikey Mouse\": \"Male\", \"Miss twotimer\": \"Female\", \"Money Funtimes\": \"Male\", \"Olafur Eiriksson\": \"Male\",\n",
    "              \"Quackmore Duck\": \"Male\", \"Sheriff Dan Duck\": \"Male\", \"Single Seller\": \"Female\", \"Solvi Mar Magnusson\": \"Male\",\n",
    "              \"Sunna Halldorsdottir\": \"Female\", \"Svava Kristinsdottir\": \"Female\", \"The Panini Man\": \"Male\", \"The Sucky Guy\": \"Male\",\n",
    "              \"Tony M\": \"Male\", \"Unassigned Unassigned\": \"Unassigned\", \"Whitewater Duck\": \"Male\", \"Yi-Ling Irene Tung\": \"Female\"}\n",
    "data['Gender'] = data['Opportunity Assigned to Full Name'].replace(gender_list)"
   ]
  },
  {
   "cell_type": "code",
   "execution_count": 5,
   "metadata": {
    "collapsed": true
   },
   "outputs": [],
   "source": [
    "# Add in total sales column\n",
    "data['Total Sales'] = (12 * data['Monthly Revenue']) + data['Fixed Revenue'] + data['Yearly Revenue']"
   ]
  },
  {
   "cell_type": "code",
   "execution_count": 6,
   "metadata": {
    "collapsed": true
   },
   "outputs": [],
   "source": [
    "# Update sales status\n",
    "\n",
    "def find_status(x):\n",
    "    if x['Sales Stage'] == \"Live\":\n",
    "        if pd.isnull(x['Disqualified Date']):\n",
    "            return \"Live\"\n",
    "        else:\n",
    "            return \"Discontinued sales\"\n",
    "    else:\n",
    "        if pd.isnull(x['Disqualified Date']):\n",
    "            return \"Current Prospect\"\n",
    "        else:\n",
    "            return \"Lost Prospect\"\n",
    "\n",
    "data['Status'] = data.apply(lambda x: find_status(x), axis=1)"
   ]
  },
  {
   "cell_type": "code",
   "execution_count": 7,
   "metadata": {},
   "outputs": [
    {
     "data": {
      "text/plain": [
       "Opportunity Assigned to Full Name  Status            \n",
       "Angustura Bitter                   Current Prospect        1\n",
       "                                   Discontinued sales      1\n",
       "                                   Live                    8\n",
       "                                   Lost Prospect          71\n",
       "Aslan in Narnia                    Discontinued sales     30\n",
       "                                   Lost Prospect           6\n",
       "Boy 1                              Current Prospect        5\n",
       "                                   Discontinued sales      1\n",
       "                                   Live                    1\n",
       "                                   Lost Prospect          94\n",
       "Bulubelle Loon                     Discontinued sales      2\n",
       "Celine Dion                        Live                    4\n",
       "                                   Lost Prospect           9\n",
       "Colin Rule                         Current Prospect        3\n",
       "                                   Discontinued sales     95\n",
       "                                   Live                    1\n",
       "                                   Lost Prospect         416\n",
       "Cruella De Vil                     Discontinued sales    311\n",
       "                                   Lost Prospect           1\n",
       "D. Pushover                        Lost Prospect           5\n",
       "Danny Kruger                       Current Prospect        1\n",
       "                                   Discontinued sales      2\n",
       "                                   Live                   19\n",
       "                                   Lost Prospect           5\n",
       "Daphne Duck                        Discontinued sales      7\n",
       "                                   Lost Prospect         109\n",
       "Dell Pizaplace                     Current Prospect        1\n",
       "                                   Lost Prospect           4\n",
       "Donald Duck                        Current Prospect        1\n",
       "                                   Discontinued sales      2\n",
       "                                   Live                    3\n",
       "                                   Lost Prospect          39\n",
       "Eider Duck                         Discontinued sales     39\n",
       "                                   Lost Prospect           5\n",
       "Fethry Duck                        Discontinued sales     71\n",
       "                                   Lost Prospect           4\n",
       "Former Duanne Read SalesGuy        Discontinued sales     20\n",
       "                                   Lost Prospect           1\n",
       "Georg Creepy                       Lost Prospect           4\n",
       "Girl 1                             Discontinued sales     10\n",
       "                                   Live                    2\n",
       "                                   Lost Prospect          15\n",
       "Girl 2                             Current Prospect       15\n",
       "                                   Discontinued sales     36\n",
       "                                   Live                   46\n",
       "                                   Lost Prospect         372\n",
       "Girl 3                             Lost Prospect           1\n",
       "Grandma Duck                       Discontinued sales     32\n",
       "                                   Lost Prospect          60\n",
       "Green MileMan                      Lost Prospect          82\n",
       "Hanna SadGirl                      Lost Prospect           1\n",
       "Hortense McDuck                    Current Prospect        1\n",
       "                                   Discontinued sales     84\n",
       "                                   Lost Prospect          11\n",
       "Humperdink Duck                    Current Prospect       42\n",
       "                                   Discontinued sales     55\n",
       "                                   Live                  131\n",
       "                                   Lost Prospect         401\n",
       "Ian Joshua Anderson                Current Prospect        6\n",
       "                                   Discontinued sales     10\n",
       "                                   Lost Prospect         142\n",
       "James Lawrence                     Lost Prospect           7\n",
       "Karan Girotra                      Current Prospect        1\n",
       "                                   Lost Prospect          30\n",
       "Kathleen Szabo                     Current Prospect        6\n",
       "                                   Live                   19\n",
       "                                   Lost Prospect          31\n",
       "Khoa Ma                            Current Prospect        4\n",
       "                                   Lost Prospect          48\n",
       "Kristina Ortiz                     Live                    6\n",
       "                                   Lost Prospect           5\n",
       "Kristjan Petursson                 Live                    1\n",
       "                                   Lost Prospect          14\n",
       "Leonardo Dicaprio                  Current Prospect       31\n",
       "                                   Discontinued sales      2\n",
       "                                   Lost Prospect         105\n",
       "Lulubelle Loon                     Discontinued sales     47\n",
       "                                   Lost Prospect          10\n",
       "Manny Babysitter                   Current Prospect        1\n",
       "                                   Live                   16\n",
       "                                   Lost Prospect          21\n",
       "Mikey Christmas                    Current Prospect        3\n",
       "                                   Discontinued sales     25\n",
       "                                   Live                    5\n",
       "                                   Lost Prospect          32\n",
       "Mikey Mouse                        Lost Prospect          33\n",
       "Miss twotimer                      Discontinued sales      1\n",
       "                                   Lost Prospect           1\n",
       "Money Funtimes                     Lost Prospect          43\n",
       "Olafur Eiriksson                   Live                   15\n",
       "                                   Lost Prospect          30\n",
       "Quackmore Duck                     Discontinued sales      4\n",
       "                                   Lost Prospect           1\n",
       "Sheriff Dan Duck                   Current Prospect        3\n",
       "                                   Discontinued sales     12\n",
       "                                   Lost Prospect         153\n",
       "Single Seller                      Lost Prospect           1\n",
       "Solvi Mar Magnusson                Current Prospect        1\n",
       "                                   Live                    4\n",
       "                                   Lost Prospect           5\n",
       "Sunna Halldorsdottir               Discontinued sales     23\n",
       "                                   Lost Prospect           5\n",
       "Svava Kristinsdottir               Lost Prospect           4\n",
       "The Panini Man                     Current Prospect        4\n",
       "                                   Discontinued sales      3\n",
       "                                   Live                    4\n",
       "                                   Lost Prospect          14\n",
       "The Sucky Guy                      Live                    1\n",
       "Tony M                             Current Prospect        1\n",
       "                                   Discontinued sales      4\n",
       "                                   Lost Prospect          32\n",
       "Unassigned Unassigned              Current Prospect        9\n",
       "                                   Discontinued sales      1\n",
       "                                   Live                   61\n",
       "                                   Lost Prospect         775\n",
       "Whitewater Duck                    Current Prospect        5\n",
       "                                   Discontinued sales      3\n",
       "                                   Lost Prospect         102\n",
       "Yi-Ling Irene Tung                 Discontinued sales     10\n",
       "                                   Live                    1\n",
       "                                   Lost Prospect           7\n",
       "dtype: int64"
      ]
     },
     "execution_count": 7,
     "metadata": {},
     "output_type": "execute_result"
    }
   ],
   "source": [
    "data.groupby(['Opportunity Assigned to Full Name', 'Status']).size()"
   ]
  },
  {
   "cell_type": "code",
   "execution_count": 8,
   "metadata": {},
   "outputs": [
    {
     "name": "stderr",
     "output_type": "stream",
     "text": [
      "/anaconda/lib/python3.6/site-packages/ipykernel_launcher.py:7: SettingWithCopyWarning: \n",
      "A value is trying to be set on a copy of a slice from a DataFrame.\n",
      "Try using .loc[row_indexer,col_indexer] = value instead\n",
      "\n",
      "See the caveats in the documentation: http://pandas.pydata.org/pandas-docs/stable/indexing.html#indexing-view-versus-copy\n",
      "  import sys\n"
     ]
    },
    {
     "data": {
      "image/png": "[encoded data removed]",
      "text/plain": [
       "<matplotlib.figure.Figure at 0x11cc09a20>"
      ]
     },
     "metadata": {},
     "output_type": "display_data"
    }
   ],
   "source": [
    "# Scatter plot comparing total sales to business area\n",
    "\n",
    "statuses = [\"Live\", \"Discontinued sales\"]\n",
    "data_live_and_discontinued = data[data['Status'].isin(statuses)]\n",
    "\n",
    "opportunity_codes = {\"eCommerce Business\": 1, \"POS Acquiring\": 2, \"Payment Terminal Business\": 3}\n",
    "data_live_and_discontinued['Opportunity Business Area Coded'] = data_live_and_discontinued['Opportunity Business Area'].replace(opportunity_codes)\n",
    "\n",
    "plt.scatter(data_live_and_discontinued['Total Sales'], data_live_and_discontinued['Opportunity Business Area Coded'])\n",
    "plt.show()"
   ]
  },
  {
   "cell_type": "code",
   "execution_count": 9,
   "metadata": {},
   "outputs": [
    {
     "name": "stderr",
     "output_type": "stream",
     "text": [
      "/anaconda/lib/python3.6/site-packages/ipykernel_launcher.py:1: SettingWithCopyWarning: \n",
      "A value is trying to be set on a copy of a slice from a DataFrame.\n",
      "Try using .loc[row_indexer,col_indexer] = value instead\n",
      "\n",
      "See the caveats in the documentation: http://pandas.pydata.org/pandas-docs/stable/indexing.html#indexing-view-versus-copy\n",
      "  \"\"\"Entry point for launching an IPython kernel.\n",
      "/anaconda/lib/python3.6/site-packages/ipykernel_launcher.py:2: SettingWithCopyWarning: \n",
      "A value is trying to be set on a copy of a slice from a DataFrame.\n",
      "Try using .loc[row_indexer,col_indexer] = value instead\n",
      "\n",
      "See the caveats in the documentation: http://pandas.pydata.org/pandas-docs/stable/indexing.html#indexing-view-versus-copy\n",
      "  \n",
      "/anaconda/lib/python3.6/site-packages/ipykernel_launcher.py:11: SettingWithCopyWarning: \n",
      "A value is trying to be set on a copy of a slice from a DataFrame.\n",
      "Try using .loc[row_indexer,col_indexer] = value instead\n",
      "\n",
      "See the caveats in the documentation: http://pandas.pydata.org/pandas-docs/stable/indexing.html#indexing-view-versus-copy\n",
      "  # This is added back by InteractiveShellApp.init_path()\n"
     ]
    },
    {
     "data": {
      "image/png": "[encoded data removed]",
      "text/plain": [
       "<matplotlib.figure.Figure at 0x11d11bf60>"
      ]
     },
     "metadata": {},
     "output_type": "display_data"
    }
   ],
   "source": [
    "data_live_and_discontinued['Opportunity Assigned to Full Name'] = pd.Categorical(data_live_and_discontinued['Opportunity Assigned to Full Name'])\n",
    "data_live_and_discontinued['Opportunity Assigned to Full Name Coded'] = data_live_and_discontinued['Opportunity Assigned to Full Name'].cat.codes\n",
    "data_live_and_discontinued['Opportunity Assigned to Full Name Coded']\n",
    "\n",
    "def code_gender(x):\n",
    "    if x['Gender'] == \"Male\":\n",
    "        return \"red\"\n",
    "    else:\n",
    "        return \"blue\"\n",
    "\n",
    "data_live_and_discontinued['Gender color'] = data_live_and_discontinued.apply(lambda x: code_gender(x), axis=1)\n",
    "\n",
    "plt.scatter(data_live_and_discontinued['Opportunity Assigned to Full Name Coded'], data_live_and_discontinued['Opportunity Business Area Coded'], c=data_live_and_discontinued['Gender color'])\n",
    "plt.show()"
   ]
  },
  {
   "cell_type": "code",
   "execution_count": 10,
   "metadata": {},
   "outputs": [
    {
     "name": "stderr",
     "output_type": "stream",
     "text": [
      "/anaconda/lib/python3.6/site-packages/ipykernel_launcher.py:1: SettingWithCopyWarning: \n",
      "A value is trying to be set on a copy of a slice from a DataFrame.\n",
      "Try using .loc[row_indexer,col_indexer] = value instead\n",
      "\n",
      "See the caveats in the documentation: http://pandas.pydata.org/pandas-docs/stable/indexing.html#indexing-view-versus-copy\n",
      "  \"\"\"Entry point for launching an IPython kernel.\n",
      "/anaconda/lib/python3.6/site-packages/ipykernel_launcher.py:2: SettingWithCopyWarning: \n",
      "A value is trying to be set on a copy of a slice from a DataFrame.\n",
      "Try using .loc[row_indexer,col_indexer] = value instead\n",
      "\n",
      "See the caveats in the documentation: http://pandas.pydata.org/pandas-docs/stable/indexing.html#indexing-view-versus-copy\n",
      "  \n",
      "/anaconda/lib/python3.6/site-packages/ipykernel_launcher.py:11: SettingWithCopyWarning: \n",
      "A value is trying to be set on a copy of a slice from a DataFrame.\n",
      "Try using .loc[row_indexer,col_indexer] = value instead\n",
      "\n",
      "See the caveats in the documentation: http://pandas.pydata.org/pandas-docs/stable/indexing.html#indexing-view-versus-copy\n",
      "  # This is added back by InteractiveShellApp.init_path()\n"
     ]
    },
    {
     "data": {
      "image/png": "[encoded data removed]",
      "text/plain": [
       "<matplotlib.figure.Figure at 0x11cf3eb38>"
      ]
     },
     "metadata": {},
     "output_type": "display_data"
    }
   ],
   "source": [
    "data_live_and_discontinued['Opportunity Assigned to Full Name'] = pd.Categorical(data_live_and_discontinued['Opportunity Assigned to Full Name'])\n",
    "data_live_and_discontinued['Opportunity Assigned to Full Name Coded'] = data_live_and_discontinued['Opportunity Assigned to Full Name'].cat.codes\n",
    "data_live_and_discontinued['Opportunity Assigned to Full Name Coded']\n",
    "\n",
    "def code_gender(x):\n",
    "    if x['Gender'] == \"Male\":\n",
    "        return \"red\"\n",
    "    else:\n",
    "        return \"blue\"\n",
    "\n",
    "data_live_and_discontinued['Gender color'] = data_live_and_discontinued.apply(lambda x: code_gender(x), axis=1)\n",
    "\n",
    "plt.scatter(data_live_and_discontinued['Opportunity Assigned to Full Name Coded'], data_live_and_discontinued['Total Sales'], c=data_live_and_discontinued['Gender color'])\n",
    "plt.show()"
   ]
  },
  {
   "cell_type": "code",
   "execution_count": 11,
   "metadata": {},
   "outputs": [
    {
     "name": "stderr",
     "output_type": "stream",
     "text": [
      "/anaconda/lib/python3.6/site-packages/ipykernel_launcher.py:5: SettingWithCopyWarning: \n",
      "A value is trying to be set on a copy of a slice from a DataFrame.\n",
      "Try using .loc[row_indexer,col_indexer] = value instead\n",
      "\n",
      "See the caveats in the documentation: http://pandas.pydata.org/pandas-docs/stable/indexing.html#indexing-view-versus-copy\n",
      "  \"\"\"\n",
      "/anaconda/lib/python3.6/site-packages/ipykernel_launcher.py:8: SettingWithCopyWarning: \n",
      "A value is trying to be set on a copy of a slice from a DataFrame.\n",
      "Try using .loc[row_indexer,col_indexer] = value instead\n",
      "\n",
      "See the caveats in the documentation: http://pandas.pydata.org/pandas-docs/stable/indexing.html#indexing-view-versus-copy\n",
      "  \n",
      "/anaconda/lib/python3.6/site-packages/ipykernel_launcher.py:9: SettingWithCopyWarning: \n",
      "A value is trying to be set on a copy of a slice from a DataFrame.\n",
      "Try using .loc[row_indexer,col_indexer] = value instead\n",
      "\n",
      "See the caveats in the documentation: http://pandas.pydata.org/pandas-docs/stable/indexing.html#indexing-view-versus-copy\n",
      "  if __name__ == '__main__':\n",
      "/anaconda/lib/python3.6/site-packages/ipykernel_launcher.py:18: SettingWithCopyWarning: \n",
      "A value is trying to be set on a copy of a slice from a DataFrame.\n",
      "Try using .loc[row_indexer,col_indexer] = value instead\n",
      "\n",
      "See the caveats in the documentation: http://pandas.pydata.org/pandas-docs/stable/indexing.html#indexing-view-versus-copy\n"
     ]
    },
    {
     "data": {
      "image/png": "[encoded data removed]",
      "text/plain": [
       "<matplotlib.figure.Figure at 0x11cf64550>"
      ]
     },
     "metadata": {},
     "output_type": "display_data"
    }
   ],
   "source": [
    "# statuses = [\"Live\", \"Discontinued sales\"]\n",
    "data_lost_prospects = data[data['Status'] == \"Lost Prospect\"]\n",
    "\n",
    "opportunity_codes = {\"eCommerce Business\": 1, \"POS Acquiring\": 2, \"Payment Terminal Business\": 3}\n",
    "data_lost_prospects['Opportunity Business Area Coded'] = data_lost_prospects['Opportunity Business Area'].replace(opportunity_codes)\n",
    "\n",
    "\n",
    "data_lost_prospects['Opportunity Assigned to Full Name'] = pd.Categorical(data_lost_prospects['Opportunity Assigned to Full Name'])\n",
    "data_lost_prospects['Opportunity Assigned to Full Name Coded'] = data_lost_prospects['Opportunity Assigned to Full Name'].cat.codes\n",
    "data_lost_prospects['Opportunity Assigned to Full Name Coded']\n",
    "\n",
    "def code_gender(x):\n",
    "    if x['Gender'] == \"Male\":\n",
    "        return \"red\"\n",
    "    else:\n",
    "        return \"blue\"\n",
    "\n",
    "data_lost_prospects['Gender color'] = data_lost_prospects.apply(lambda x: code_gender(x), axis=1)\n",
    "\n",
    "plt.scatter(data_lost_prospects['Opportunity Assigned to Full Name Coded'], data_lost_prospects['Total Sales'], c=data_lost_prospects['Gender color'])\n",
    "plt.show()"
   ]
  },
  {
   "cell_type": "code",
   "execution_count": 12,
   "metadata": {},
   "outputs": [
    {
     "name": "stderr",
     "output_type": "stream",
     "text": [
      "/anaconda/lib/python3.6/site-packages/ipykernel_launcher.py:19: SettingWithCopyWarning: \n",
      "A value is trying to be set on a copy of a slice from a DataFrame.\n",
      "Try using .loc[row_indexer,col_indexer] = value instead\n",
      "\n",
      "See the caveats in the documentation: http://pandas.pydata.org/pandas-docs/stable/indexing.html#indexing-view-versus-copy\n",
      "/anaconda/lib/python3.6/site-packages/ipykernel_launcher.py:20: SettingWithCopyWarning: \n",
      "A value is trying to be set on a copy of a slice from a DataFrame.\n",
      "Try using .loc[row_indexer,col_indexer] = value instead\n",
      "\n",
      "See the caveats in the documentation: http://pandas.pydata.org/pandas-docs/stable/indexing.html#indexing-view-versus-copy\n"
     ]
    },
    {
     "data": {
      "image/png": "[encoded data removed]",
      "text/plain": [
       "<matplotlib.figure.Figure at 0x112092a58>"
      ]
     },
     "metadata": {},
     "output_type": "display_data"
    }
   ],
   "source": [
    "# NOT WORTH IT\n",
    "\n",
    "def color_success(x):\n",
    "    if x['Success'] == 1:\n",
    "        return \"red\"\n",
    "    elif x['Success'] == 2:\n",
    "        return \"blue\"\n",
    "\n",
    "# data_live_and_discontinued['Gender coded'] = data_live_and_discontinued.apply(lambda x: code_gender(x), axis=1)\n",
    "\n",
    "opportunity_codes = {\"eCommerce Business\": 1, \"POS Acquiring\": 2, \"Payment Terminal Business\": 3}\n",
    "data['Opportunity Business Area Coded'] = data['Opportunity Business Area'].replace(opportunity_codes)\n",
    "gender_codes = {\"Male\": 1, \"Female\": 2, \"Unassigned\": 3}\n",
    "data['Gender coded'] = data['Gender'].replace(gender_codes)\n",
    "\n",
    "data_drop_current_prospects = data[data['Status'] != \"Current Prospect\"]\n",
    "\n",
    "success_codes = {\"Live\": 2, \"Discontinued sales\": 2, \"Lost Prospect\": 1, \"Current Prospect\": 0}\n",
    "data_drop_current_prospects['Success'] = data_drop_current_prospects['Status'].replace(success_codes)\n",
    "data_drop_current_prospects['Success color'] = data_drop_current_prospects.apply(lambda x: color_success(x), axis=1)\n",
    "\n",
    "plt.scatter(data_drop_current_prospects['Gender coded'], data_drop_current_prospects['Opportunity Business Area Coded'])\n",
    "\n",
    "plt.show()"
   ]
  },
  {
   "cell_type": "code",
   "execution_count": 13,
   "metadata": {},
   "outputs": [
    {
     "name": "stderr",
     "output_type": "stream",
     "text": [
      "/anaconda/lib/python3.6/site-packages/ipykernel_launcher.py:10: SettingWithCopyWarning: \n",
      "A value is trying to be set on a copy of a slice from a DataFrame.\n",
      "Try using .loc[row_indexer,col_indexer] = value instead\n",
      "\n",
      "See the caveats in the documentation: http://pandas.pydata.org/pandas-docs/stable/indexing.html#indexing-view-versus-copy\n",
      "  # Remove the CWD from sys.path while we load stuff.\n"
     ]
    }
   ],
   "source": [
    "# Logistic regression\n",
    "from sklearn.linear_model import LogisticRegression\n",
    "from sklearn.model_selection import train_test_split\n",
    "\n",
    "\n",
    "data_drop_current_prospects = data[data['Status'] != \"Current Prospect\"]\n",
    "\n",
    "# Code success variables\n",
    "success_codes = {\"Live\": 2, \"Discontinued sales\": 2, \"Lost Prospect\": 1, \"Current Prospect\": 0}\n",
    "data_drop_current_prospects['Success'] = data_drop_current_prospects['Status'].replace(success_codes)\n",
    "\n",
    "# Fill N/As\n",
    "values_for_na = {'Opportunity Business Area Coded': 1, 'Gender coded': 3}\n",
    "data_drop_current_prospects = data_drop_current_prospects.fillna(value = values_for_na)\n",
    "\n",
    "# Code sales people names\n",
    "# data_drop_current_prospects['Opportunity Assigned to Full Name'] = pd.Categorical(data_drop_current_prospects['Opportunity Assigned to Full Name'])\n",
    "# data_drop_current_prospects['Opportunity Assigned to Full Name Coded'] = data_drop_current_prospects['Opportunity Assigned to Full Name'].cat.codes\n",
    "# data_drop_current_prospects['Opportunity Assigned to Full Name Coded']\n",
    "\n",
    "data_drop_current_prospects = data_drop_current_prospects[data_drop_current_prospects['Opportunity Assigned to Full Name'] != \"Unassigned Unassigned\"]\n",
    "\n",
    "dummies = pd.get_dummies(data_drop_current_prospects['Opportunity Assigned to Full Name'])\n",
    "dummies_columns = dummies.columns\n",
    "data_drop_current_prospects = pd.concat([data_drop_current_prospects, dummies], axis=1)\n",
    "\n",
    "dummies_vertical = pd.get_dummies(data_drop_current_prospects['Opportunity Business Area Coded'])\n",
    "dummies_vertical_cols = dummies_vertical.columns\n",
    "data_drop_current_prospects = pd.concat([data_drop_current_prospects, dummies_vertical], axis=1)\n",
    "\n",
    "# Code same sales person as referral\n",
    "sales_person_referal_dict = {True: 1, False: 0, \"Not applicable\": -1}\n",
    "data_drop_current_prospects['Sales Person Referral Coded'] = data_drop_current_prospects['Same salesperson as referring company'].replace(sales_person_referal_dict)\n",
    "\n",
    "# Code opportunity sales process\n",
    "sales_process_dict = {\"New Business\": 1, \"Upsell\": 0}\n",
    "data_drop_current_prospects['Sales Process Coded'] = data_drop_current_prospects['Opportunity Sales Process'].replace(sales_process_dict)\n",
    "\n",
    "# X variable columns\n",
    "# columns = ['Gender coded', 'Opportunity Business Area Coded', 'Sales Person Referral Coded', 'Sales Process Coded']\n",
    "columns = ['Gender coded', 'Sales Person Referral Coded', 'Sales Process Coded']\n",
    "for column in dummies_vertical_cols:\n",
    "    columns.append(column)\n",
    "for column in dummies_columns:\n",
    "    columns.append(column)\n",
    "\n",
    "# Predictive variables: gender, vertical, Same salesperson as referring company, total sales, opportunity sales process\n",
    "X = data_drop_current_prospects.loc[:,columns].as_matrix()\n",
    "y = data_drop_current_prospects['Success'].as_matrix()"
   ]
  },
  {
   "cell_type": "code",
   "execution_count": 14,
   "metadata": {},
   "outputs": [
    {
     "name": "stdout",
     "output_type": "stream",
     "text": [
      "Score of the model: 0.853594771242\n"
     ]
    }
   ],
   "source": [
    "X_train, X_test, y_train, y_test = train_test_split(X,y, test_size = 0.2, random_state = 1)\n",
    "\n",
    "log_reg = LogisticRegression().fit(X_train,y_train)\n",
    "print(\"Score of the model: \"+str(log_reg.score(X_test, y_test)))"
   ]
  },
  {
   "cell_type": "code",
   "execution_count": 55,
   "metadata": {},
   "outputs": [],
   "source": [
    "from sklearn.metrics import roc_curve\n",
    "y_score = log_reg.predict_proba(X_test)[:,1]\n",
    "y_test_boolean = (y_test == 2)"
   ]
  },
  {
   "cell_type": "code",
   "execution_count": 56,
   "metadata": {
    "collapsed": true
   },
   "outputs": [],
   "source": [
    "#Define a method calculating the false positive rate and the true positive rate to make the ROC curve\n",
    "def calculate_false_true_pos_rate(cutoff, y_score):\n",
    "    \n",
    "    false_positive = 0\n",
    "    true_positive = 0\n",
    "    false_negative = 0\n",
    "    true_negative = 0\n",
    "    \n",
    "    # Creates an array filled with True or False depending on whether the distance is less than our cutoff or not\n",
    "    positive_negative = (y_score > cutoff)\n",
    "    \n",
    "    # True positives are those where the distance is less than the cutoff and it's actually a match\n",
    "    num_true_positives = np.sum(np.logical_and(positive_negative, y_test_boolean))\n",
    "    # Actual positives are any where it's actually a match\n",
    "    num_actual_positives = np.sum(y_test_boolean)\n",
    "    true_positive_rate = num_true_positives / num_actual_positives\n",
    "    \n",
    "    # False positives are those wehre the distance is less than the cutoff but it's not actually a match\n",
    "    num_false_positives = np.sum(np.logical_and(positive_negative, np.logical_not(y_test_boolean)))\n",
    "    # Actual negatives are any where it's not a match\n",
    "    num_actual_negatives = np.sum(np.logical_not(y_test_boolean))\n",
    "    false_positive_rate = num_false_positives / num_actual_negatives\n",
    "    \n",
    "    return false_positive_rate, true_positive_rate"
   ]
  },
  {
   "cell_type": "code",
   "execution_count": 57,
   "metadata": {},
   "outputs": [],
   "source": [
    "pairs = []\n",
    "for i in range(0,100):\n",
    "#     print(i)\n",
    "    false_positive_rate, true_positive_rate = calculate_false_true_pos_rate(i/100.0, y_score)\n",
    "    pairs.append([false_positive_rate, true_positive_rate])"
   ]
  },
  {
   "cell_type": "code",
   "execution_count": 60,
   "metadata": {
    "scrolled": true
   },
   "outputs": [
    {
     "data": {
      "image/png": "[encoded data removed]",
      "text/plain": [
       "<matplotlib.figure.Figure at 0x1215faf98>"
      ]
     },
     "metadata": {},
     "output_type": "display_data"
    }
   ],
   "source": [
    "pairs_np = np.asarray(pairs)\n",
    "plt.plot(pairs_np[:,0], pairs_np[:,1])\n",
    "plt.xlabel('False positive rate')\n",
    "plt.ylabel('True positive rate')\n",
    "plt.savefig(r\"/Users/kathleenszabo/Documents/Cornell Tech/Product Studio/pc043-mastercard/ROC curve.png\")\n",
    "plt.show()\n",
    "plt.close()"
   ]
  },
  {
   "cell_type": "code",
   "execution_count": 59,
   "metadata": {},
   "outputs": [
    {
     "name": "stdout",
     "output_type": "stream",
     "text": [
      "0.902123633305\n"
     ]
    }
   ],
   "source": [
    "from sklearn.metrics import roc_auc_score\n",
    "\n",
    "# print(y_test_boolean.astype(int))\n",
    "# print(y_score)\n",
    "\n",
    "print(roc_auc_score(y_test_boolean.astype(int), y_score))"
   ]
  },
  {
   "cell_type": "code",
   "execution_count": null,
   "metadata": {
    "collapsed": true
   },
   "outputs": [],
   "source": [
    "# Create database of salesperson information\n",
    "\n",
    "table = pd.pivot_table(data_drop_current_prospects, values=['ID'], index=['Opportunity Assigned to Full Name'], columns=['Success'], aggfunc=len, margins=True)\n",
    "table2 = table.div( table.iloc[:,-1], axis=0 )\n",
    "table2_df = pd.DataFrame(table2.to_records())\n",
    "\n",
    "\n",
    "opportunity_assigned_to_full_name = pd.DataFrame(dummies_columns)\n",
    "gender_coded = opportunity_assigned_to_full_name.replace(gender_list).replace(gender_codes)\n",
    "\n",
    "salesperson_data = pd.concat([opportunity_assigned_to_full_name, gender_coded, table2_df.iloc[:,2]], axis = 1)\n",
    "salesperson_data.columns = ['Opportunity Assigned to Full Name', 'Gender coded', 'Overall success rate']"
   ]
  },
  {
   "cell_type": "code",
   "execution_count": null,
   "metadata": {},
   "outputs": [],
   "source": [
    "# print(pd.DataFrame(X_test))\n",
    "print(y_test.mean())\n",
    "print(len(y_test))\n",
    "print(y_train.mean())\n",
    "print(len(y_train))"
   ]
  },
  {
   "cell_type": "code",
   "execution_count": null,
   "metadata": {
    "collapsed": true
   },
   "outputs": [],
   "source": [
    "import copy\n",
    "\n",
    "X_test_sales_person = copy.deepcopy(X_test)\n",
    "\n",
    "# TEST IF WE ALWAYS GET AT LEAST ONE GREEN\n",
    "# lead = 9\n",
    "\n",
    "count_no_green = 0\n",
    "for lead in range(len(X_test_sales_person)):\n",
    "\n",
    "    for i in range(50):\n",
    "        X_test_sales_person[lead,6+i] = 0\n",
    "\n",
    "    X_test_sales_person_row = X_test_sales_person[lead,:].reshape(1,-1) \n",
    "    green = False\n",
    "    for i in range(50):\n",
    "        # Replace which sales person is being plugged in\n",
    "        X_test_sales_person_row[0][6+i] = 1\n",
    "        # Update the gender of the sales person\n",
    "        X_test_sales_person_row[0][0] = gender_codes.get(gender_list.get(dummies_columns[i]))\n",
    "        # Predict the probability of a sale under this salesperson\n",
    "        prob = log_reg.predict_proba(X_test_sales_person_row)[0][1]\n",
    "        if prob > 0.7:\n",
    "            green = True\n",
    "        X_test_sales_person_row[0][6+i] = 0\n",
    "    if green:\n",
    "        result = \" can have a 70% chance of success.\"\n",
    "    else:\n",
    "        result = \" cannot have a 70% chance of success.\"\n",
    "        count_no_green += 1\n",
    "    print(\"Lead number \"+str(lead)+result)\n",
    "print(count_no_green)"
   ]
  },
  {
   "cell_type": "code",
   "execution_count": null,
   "metadata": {
    "collapsed": true
   },
   "outputs": [],
   "source": [
    "# TEST LEADS INDIVIDUALLY\n",
    "\n",
    "lead = 7\n",
    "\n",
    "for i in range(50):\n",
    "    X_test_sales_person[lead,6+i] = 0\n",
    "    \n",
    "X_test_sales_person_row = X_test_sales_person[lead,:].reshape(1,-1) \n",
    "    \n",
    "for i in range(50):\n",
    "    X_test_sales_person_row[0][6+i] = 1\n",
    "    # Update the gender of the sales person\n",
    "    X_test_sales_person_row[0][0] = gender_codes.get(gender_list.get(dummies_columns[i]))\n",
    "\n",
    "    prob = log_reg.predict_proba(X_test_sales_person_row)[0][1]\n",
    "    color = \"Red\"\n",
    "    if prob > 0.7:\n",
    "        color = \"Green\"\n",
    "    elif prob > 0.5:\n",
    "        color = \"Yellow\"\n",
    "    if color == \"Green\":\n",
    "        print(\"\\nSalesperson: \"+dummies_columns[i])\n",
    "    X_test_sales_person_row[0][6+i] = 0"
   ]
  },
  {
   "cell_type": "code",
   "execution_count": null,
   "metadata": {
    "collapsed": true
   },
   "outputs": [],
   "source": [
    "# TEST LEADS INDIVIDUALLY\n",
    "\n",
    "# lead options = [66, 67]\n",
    "\n",
    "lead = 68\n",
    "\n",
    "for i in range(50):\n",
    "    X_test_sales_person[lead,6+i] = 0\n",
    "    \n",
    "X_test_sales_person_row = X_test_sales_person[lead,:].reshape(1,-1) \n",
    "    \n",
    "for i in range(50):\n",
    "    X_test_sales_person_row[0][6+i] = 1\n",
    "    # Update the gender of the sales person\n",
    "    X_test_sales_person_row[0][0] = gender_codes.get(gender_list.get(dummies_columns[i]))\n",
    "    prob = log_reg.predict_proba(X_test_sales_person_row)[0][1]\n",
    "    color = \"Red\"\n",
    "    if prob > 0.7:\n",
    "        color = \"Green\"\n",
    "    elif prob > 0.5:\n",
    "        color = \"Yellow\"\n",
    "    if color == \"Green\":\n",
    "        print(\"\\nSalesperson: \"+dummies_columns[i])\n",
    "    X_test_sales_person_row[0][6+i] = 0"
   ]
  },
  {
   "cell_type": "code",
   "execution_count": null,
   "metadata": {
    "collapsed": true,
    "scrolled": true
   },
   "outputs": [],
   "source": [
    "# TEST LEADS INDIVIDUALLY - compare overall success rate vs predicted for specific lead\n",
    "\n",
    "lead = 123\n",
    "\n",
    "for i in range(50):\n",
    "    X_test_sales_person[lead,6+i] = 0\n",
    "    \n",
    "X_test_sales_person_row = X_test_sales_person[lead,:].reshape(1,-1) \n",
    "    \n",
    "for i in range(50):\n",
    "    X_test_sales_person_row[0][6+i] = 1\n",
    "    # Update the gender of the sales person\n",
    "    X_test_sales_person_row[0][0] = gender_codes.get(gender_list.get(dummies_columns[i]))\n",
    "\n",
    "    prob = log_reg.predict_proba(X_test_sales_person_row)[0][1]\n",
    "    if prob > salesperson_data.loc[i, 'Overall success rate']:\n",
    "        print(salesperson_data.loc[i, 'Opportunity Assigned to Full Name'])\n",
    "        print(\"overall success rate: \"+str(salesperson_data.loc[i, 'Overall success rate']))\n",
    "        print(\"predicted success rate for this lead: \"+str(prob))\n",
    "    \n",
    "#     color = \"Red\"\n",
    "#     if prob > 0.7:\n",
    "#         color = \"Green\"\n",
    "#     elif prob > 0.5:\n",
    "#         color = \"Yellow\"\n",
    "#     if color == \"Green\":\n",
    "#         print(\"\\nSalesperson: \"+dummies_columns[i])\n",
    "#         print(\"Probability of success: {0:.0f}%\".format(prob * 100))\n",
    "    X_test_sales_person_row[0][6+i] = 0"
   ]
  },
  {
   "cell_type": "code",
   "execution_count": null,
   "metadata": {
    "collapsed": true
   },
   "outputs": [],
   "source": []
  },
  {
   "cell_type": "code",
   "execution_count": null,
   "metadata": {
    "collapsed": true
   },
   "outputs": [],
   "source": []
  }
 ],
 "metadata": {
  "kernelspec": {
   "display_name": "Python 3",
   "language": "python",
   "name": "python3"
  },
  "language_info": {
   "codemirror_mode": {
    "name": "ipython",
    "version": 3
   },
   "file_extension": ".py",
   "mimetype": "text/x-python",
   "name": "python",
   "nbconvert_exporter": "python",
   "pygments_lexer": "ipython3",
   "version": "3.6.1"
  }
 },
 "nbformat": 4,
 "nbformat_minor": 2
}
