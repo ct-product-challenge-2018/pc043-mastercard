{
 "cells": [
  {
   "cell_type": "code",
   "execution_count": 2,
   "metadata": {},
   "outputs": [
    {
     "name": "stderr",
     "output_type": "stream",
     "text": [
      "/Users/yilingtung/miniconda3/envs/py36/lib/python3.7/site-packages/sklearn/utils/__init__.py:4: DeprecationWarning: Using or importing the ABCs from 'collections' instead of from 'collections.abc' is deprecated, and in 3.8 it will stop working\n",
      "  from collections import Sequence\n"
     ]
    }
   ],
   "source": [
    "import numpy as np\n",
    "import pandas as pd\n",
    "import seaborn as sns; sns.set()\n",
    "import matplotlib.pyplot as plt\n",
    "from sklearn.externals import joblib\n",
    "\n",
    "pd.options.display.max_columns = 4000\n",
    "pd.options.display.max_rows = 4000\n",
    "pd.options.display.max_seq_items = 4000"
   ]
  },
  {
   "cell_type": "code",
   "execution_count": 3,
   "metadata": {},
   "outputs": [],
   "source": [
    "datafile = r\"/Users/yilingtung/Documents/CornellTechWork/ProductStudio/dataset.xlsx\"\n",
    "data = pd.read_excel(datafile)"
   ]
  },
  {
   "cell_type": "code",
   "execution_count": 4,
   "metadata": {},
   "outputs": [],
   "source": [
    "# Same sales person between referring company and listed company\n",
    "\n",
    "for i in range(len(data)):\n",
    "    if pd.isnull(data.iloc[i,4]):\n",
    "        data.loc[i,'Same salesperson as referring company'] = \"Not applicable\"\n",
    "    else:\n",
    "        if data.iloc[i,4][:7] == \"Company\":                \n",
    "            x = np.argwhere(data['Account Name'] == data.iloc[i,4])\n",
    "            if len(x) == 0:\n",
    "                data.loc[i,'Same salesperson as referring company'] = False\n",
    "            else:\n",
    "                assigned_salespeople = data.iloc[x[0],:]\n",
    "                assigned_salespeople = assigned_salespeople['Opportunity Assigned to Full Name']\n",
    "                if data.iloc[i, 2] in assigned_salespeople.item():\n",
    "                    data.loc[i,'Same salesperson as referring company'] = True\n",
    "                else:\n",
    "                    data.loc[i,'Same salesperson as referring company'] = False\n",
    "        else:\n",
    "            data.loc[i,'Same salesperson as referring company'] = \"Not applicable\""
   ]
  },
  {
   "cell_type": "code",
   "execution_count": 5,
   "metadata": {},
   "outputs": [],
   "source": [
    "# Assign gender to salespeople\n",
    "\n",
    "gender_list = {\"Angustura Bitter\": \"Male\", \"Aslan in Narnia\": \"Male\", \"Boy 1\": \"Male\", \"Bulubelle Loon\": \"Female\", \n",
    "               \"Celine Dion\": \"Female\", \"Colin Rule\": \"Male\", \"Cruella De Vil\": \"Female\", \"D. Pushover\": \"Male\", \"Danny Kruger\": \"Male\",\n",
    "              \"Daphne Duck\": \"Female\", \"Dell Pizaplace\": \"Female\", \"Donald Duck\": \"Male\", \"Eider Duck\": \"Male\", \"Fethry Duck\": \"Male\", \n",
    "              \"Former Duanne Read SalesGuy\": \"Male\", \"Georg Creepy\": \"Male\", \"Girl 1\": \"Female\", \"Girl 2\": \"Female\",\n",
    "              \"Girl 3\": \"Female\", \"Grandma Duck\": \"Female\", \"Green MileMan\": \"Male\", \"Hanna SadGirl\": \"Female\", \"Hortense McDuck\": \"Male\",\n",
    "              \"Humperdink Duck\": \"Male\", \"Ian Joshua Anderson\": \"Male\", \"James Lawrence\": \"Male\", \"Karan Girotra\": \"Male\",\n",
    "              \"Kathleen Szabo\": \"Female\", \"Khoa Ma\": \"Male\", \"Kristina Ortiz\": \"Female\", \"Kristjan Petursson\": \"Male\",\n",
    "              \"Leonardo Dicaprio\": \"Male\", \"Lulubelle Loon\": \"Female\", \"Manny Babysitter\": \"Male\", \"Mikey Christmas\": \"Male\", \n",
    "                \"Mikey Mouse\": \"Male\", \"Miss twotimer\": \"Female\", \"Money Funtimes\": \"Male\", \"Olafur Eiriksson\": \"Male\",\n",
    "              \"Quackmore Duck\": \"Male\", \"Sheriff Dan Duck\": \"Male\", \"Single Seller\": \"Female\", \"Solvi Mar Magnusson\": \"Male\",\n",
    "              \"Sunna Halldorsdottir\": \"Female\", \"Svava Kristinsdottir\": \"Female\", \"The Panini Man\": \"Male\", \"The Sucky Guy\": \"Male\",\n",
    "              \"Tony M\": \"Male\", \"Unassigned Unassigned\": \"Unassigned\", \"Whitewater Duck\": \"Male\", \"Yi-Ling Irene Tung\": \"Female\"}\n",
    "data['Gender'] = data['Opportunity Assigned to Full Name'].replace(gender_list)"
   ]
  },
  {
   "cell_type": "code",
   "execution_count": 6,
   "metadata": {},
   "outputs": [],
   "source": [
    "# Add in total sales column\n",
    "data['Total Sales'] = (12 * data['Monthly Revenue']) + data['Fixed Revenue'] + data['Yearly Revenue']"
   ]
  },
  {
   "cell_type": "code",
   "execution_count": 7,
   "metadata": {},
   "outputs": [],
   "source": [
    "# Update sales status\n",
    "\n",
    "def find_status(x):\n",
    "    if x['Sales Stage'] == \"Live\":\n",
    "        if pd.isnull(x['Disqualified Date']):\n",
    "            return \"Live\"\n",
    "        else:\n",
    "            return \"Discontinued sales\"\n",
    "    else:\n",
    "        if pd.isnull(x['Disqualified Date']):\n",
    "            return \"Current Prospect\"\n",
    "        else:\n",
    "            return \"Lost Prospect\"\n",
    "\n",
    "data['Status'] = data.apply(lambda x: find_status(x), axis=1)"
   ]
  },
  {
   "cell_type": "code",
   "execution_count": null,
   "metadata": {},
   "outputs": [],
   "source": []
  },
  {
   "cell_type": "code",
   "execution_count": 8,
   "metadata": {},
   "outputs": [
    {
     "data": {
      "text/plain": [
       "Opportunity Assigned to Full Name  Status            \n",
       "Angustura Bitter                   Current Prospect        1\n",
       "                                   Discontinued sales      1\n",
       "                                   Live                    8\n",
       "                                   Lost Prospect          71\n",
       "Aslan in Narnia                    Discontinued sales     30\n",
       "                                   Lost Prospect           6\n",
       "Boy 1                              Current Prospect        5\n",
       "                                   Discontinued sales      1\n",
       "                                   Live                    1\n",
       "                                   Lost Prospect          94\n",
       "Bulubelle Loon                     Discontinued sales      2\n",
       "Celine Dion                        Live                    4\n",
       "                                   Lost Prospect           9\n",
       "Colin Rule                         Current Prospect        3\n",
       "                                   Discontinued sales     95\n",
       "                                   Live                    1\n",
       "                                   Lost Prospect         416\n",
       "Cruella De Vil                     Discontinued sales    311\n",
       "                                   Lost Prospect           1\n",
       "D. Pushover                        Lost Prospect           5\n",
       "Danny Kruger                       Current Prospect        1\n",
       "                                   Discontinued sales      2\n",
       "                                   Live                   19\n",
       "                                   Lost Prospect           5\n",
       "Daphne Duck                        Discontinued sales      7\n",
       "                                   Lost Prospect         109\n",
       "Dell Pizaplace                     Current Prospect        1\n",
       "                                   Lost Prospect           4\n",
       "Donald Duck                        Current Prospect        1\n",
       "                                   Discontinued sales      2\n",
       "                                   Live                    3\n",
       "                                   Lost Prospect          39\n",
       "Eider Duck                         Discontinued sales     39\n",
       "                                   Lost Prospect           5\n",
       "Fethry Duck                        Discontinued sales     71\n",
       "                                   Lost Prospect           4\n",
       "Former Duanne Read SalesGuy        Discontinued sales     20\n",
       "                                   Lost Prospect           1\n",
       "Georg Creepy                       Lost Prospect           4\n",
       "Girl 1                             Discontinued sales     10\n",
       "                                   Live                    2\n",
       "                                   Lost Prospect          15\n",
       "Girl 2                             Current Prospect       15\n",
       "                                   Discontinued sales     36\n",
       "                                   Live                   46\n",
       "                                   Lost Prospect         372\n",
       "Girl 3                             Lost Prospect           1\n",
       "Grandma Duck                       Discontinued sales     32\n",
       "                                   Lost Prospect          60\n",
       "Green MileMan                      Lost Prospect          82\n",
       "Hanna SadGirl                      Lost Prospect           1\n",
       "Hortense McDuck                    Current Prospect        1\n",
       "                                   Discontinued sales     84\n",
       "                                   Lost Prospect          11\n",
       "Humperdink Duck                    Current Prospect       42\n",
       "                                   Discontinued sales     55\n",
       "                                   Live                  131\n",
       "                                   Lost Prospect         401\n",
       "Ian Joshua Anderson                Current Prospect        6\n",
       "                                   Discontinued sales     10\n",
       "                                   Lost Prospect         142\n",
       "James Lawrence                     Lost Prospect           7\n",
       "Karan Girotra                      Current Prospect        1\n",
       "                                   Lost Prospect          30\n",
       "Kathleen Szabo                     Current Prospect        6\n",
       "                                   Live                   19\n",
       "                                   Lost Prospect          31\n",
       "Khoa Ma                            Current Prospect        4\n",
       "                                   Lost Prospect          48\n",
       "Kristina Ortiz                     Live                    6\n",
       "                                   Lost Prospect           5\n",
       "Kristjan Petursson                 Live                    1\n",
       "                                   Lost Prospect          14\n",
       "Leonardo Dicaprio                  Current Prospect       31\n",
       "                                   Discontinued sales      2\n",
       "                                   Lost Prospect         105\n",
       "Lulubelle Loon                     Discontinued sales     47\n",
       "                                   Lost Prospect          10\n",
       "Manny Babysitter                   Current Prospect        1\n",
       "                                   Live                   16\n",
       "                                   Lost Prospect          21\n",
       "Mikey Christmas                    Current Prospect        3\n",
       "                                   Discontinued sales     25\n",
       "                                   Live                    5\n",
       "                                   Lost Prospect          32\n",
       "Mikey Mouse                        Lost Prospect          33\n",
       "Miss twotimer                      Discontinued sales      1\n",
       "                                   Lost Prospect           1\n",
       "Money Funtimes                     Lost Prospect          43\n",
       "Olafur Eiriksson                   Live                   15\n",
       "                                   Lost Prospect          30\n",
       "Quackmore Duck                     Discontinued sales      4\n",
       "                                   Lost Prospect           1\n",
       "Sheriff Dan Duck                   Current Prospect        3\n",
       "                                   Discontinued sales     12\n",
       "                                   Lost Prospect         153\n",
       "Single Seller                      Lost Prospect           1\n",
       "Solvi Mar Magnusson                Current Prospect        1\n",
       "                                   Live                    4\n",
       "                                   Lost Prospect           5\n",
       "Sunna Halldorsdottir               Discontinued sales     23\n",
       "                                   Lost Prospect           5\n",
       "Svava Kristinsdottir               Lost Prospect           4\n",
       "The Panini Man                     Current Prospect        4\n",
       "                                   Discontinued sales      3\n",
       "                                   Live                    4\n",
       "                                   Lost Prospect          14\n",
       "The Sucky Guy                      Live                    1\n",
       "Tony M                             Current Prospect        1\n",
       "                                   Discontinued sales      4\n",
       "                                   Lost Prospect          32\n",
       "Unassigned Unassigned              Current Prospect        9\n",
       "                                   Discontinued sales      1\n",
       "                                   Live                   61\n",
       "                                   Lost Prospect         775\n",
       "Whitewater Duck                    Current Prospect        5\n",
       "                                   Discontinued sales      3\n",
       "                                   Lost Prospect         102\n",
       "Yi-Ling Irene Tung                 Discontinued sales     10\n",
       "                                   Live                    1\n",
       "                                   Lost Prospect           7\n",
       "dtype: int64"
      ]
     },
     "execution_count": 8,
     "metadata": {},
     "output_type": "execute_result"
    }
   ],
   "source": [
    "data.groupby(['Opportunity Assigned to Full Name', 'Status']).size()"
   ]
  },
  {
   "cell_type": "code",
   "execution_count": 9,
   "metadata": {},
   "outputs": [
    {
     "name": "stderr",
     "output_type": "stream",
     "text": [
      "/Users/yilingtung/miniconda3/envs/py36/lib/python3.7/site-packages/ipykernel_launcher.py:7: SettingWithCopyWarning: \n",
      "A value is trying to be set on a copy of a slice from a DataFrame.\n",
      "Try using .loc[row_indexer,col_indexer] = value instead\n",
      "\n",
      "See the caveats in the documentation: http://pandas.pydata.org/pandas-docs/stable/indexing.html#indexing-view-versus-copy\n",
      "  import sys\n"
     ]
    },
    {
     "data": {
      "image/png": "[encoded data removed]",
      "text/plain": [
       "<Figure size 432x288 with 1 Axes>"
      ]
     },
     "metadata": {
      "needs_background": "light"
     },
     "output_type": "display_data"
    }
   ],
   "source": [
    "# Scatter plot comparing total sales to business area\n",
    "\n",
    "statuses = [\"Live\", \"Discontinued sales\"]\n",
    "data_live_and_discontinued = data[data['Status'].isin(statuses)]\n",
    "\n",
    "opportunity_codes = {\"eCommerce Business\": 1, \"POS Acquiring\": 2, \"Payment Terminal Business\": 3}\n",
    "data_live_and_discontinued['Opportunity Business Area Coded'] = data_live_and_discontinued['Opportunity Business Area'].replace(opportunity_codes)\n",
    "\n",
    "plt.scatter(data_live_and_discontinued['Total Sales'], data_live_and_discontinued['Opportunity Business Area Coded'])\n",
    "plt.show()"
   ]
  },
  {
   "cell_type": "code",
   "execution_count": 10,
   "metadata": {},
   "outputs": [
    {
     "name": "stderr",
     "output_type": "stream",
     "text": [
      "/Users/yilingtung/miniconda3/envs/py36/lib/python3.7/site-packages/ipykernel_launcher.py:1: SettingWithCopyWarning: \n",
      "A value is trying to be set on a copy of a slice from a DataFrame.\n",
      "Try using .loc[row_indexer,col_indexer] = value instead\n",
      "\n",
      "See the caveats in the documentation: http://pandas.pydata.org/pandas-docs/stable/indexing.html#indexing-view-versus-copy\n",
      "  \"\"\"Entry point for launching an IPython kernel.\n",
      "/Users/yilingtung/miniconda3/envs/py36/lib/python3.7/site-packages/ipykernel_launcher.py:2: SettingWithCopyWarning: \n",
      "A value is trying to be set on a copy of a slice from a DataFrame.\n",
      "Try using .loc[row_indexer,col_indexer] = value instead\n",
      "\n",
      "See the caveats in the documentation: http://pandas.pydata.org/pandas-docs/stable/indexing.html#indexing-view-versus-copy\n",
      "  \n",
      "/Users/yilingtung/miniconda3/envs/py36/lib/python3.7/site-packages/ipykernel_launcher.py:11: SettingWithCopyWarning: \n",
      "A value is trying to be set on a copy of a slice from a DataFrame.\n",
      "Try using .loc[row_indexer,col_indexer] = value instead\n",
      "\n",
      "See the caveats in the documentation: http://pandas.pydata.org/pandas-docs/stable/indexing.html#indexing-view-versus-copy\n",
      "  # This is added back by InteractiveShellApp.init_path()\n"
     ]
    },
    {
     "data": {
      "image/png": "[encoded data removed]",
      "text/plain": [
       "<Figure size 432x288 with 1 Axes>"
      ]
     },
     "metadata": {
      "needs_background": "light"
     },
     "output_type": "display_data"
    }
   ],
   "source": [
    "data_live_and_discontinued['Opportunity Assigned to Full Name'] = pd.Categorical(data_live_and_discontinued['Opportunity Assigned to Full Name'])\n",
    "data_live_and_discontinued['Opportunity Assigned to Full Name Coded'] = data_live_and_discontinued['Opportunity Assigned to Full Name'].cat.codes\n",
    "data_live_and_discontinued['Opportunity Assigned to Full Name Coded']\n",
    "\n",
    "def code_gender(x):\n",
    "    if x['Gender'] == \"Male\":\n",
    "        return \"red\"\n",
    "    else:\n",
    "        return \"blue\"\n",
    "\n",
    "data_live_and_discontinued['Gender color'] = data_live_and_discontinued.apply(lambda x: code_gender(x), axis=1)\n",
    "\n",
    "plt.scatter(data_live_and_discontinued['Opportunity Assigned to Full Name Coded'], data_live_and_discontinued['Opportunity Business Area Coded'], c=data_live_and_discontinued['Gender color'])\n",
    "plt.show()"
   ]
  },
  {
   "cell_type": "code",
   "execution_count": 11,
   "metadata": {},
   "outputs": [
    {
     "name": "stderr",
     "output_type": "stream",
     "text": [
      "/Users/yilingtung/miniconda3/envs/py36/lib/python3.7/site-packages/ipykernel_launcher.py:1: SettingWithCopyWarning: \n",
      "A value is trying to be set on a copy of a slice from a DataFrame.\n",
      "Try using .loc[row_indexer,col_indexer] = value instead\n",
      "\n",
      "See the caveats in the documentation: http://pandas.pydata.org/pandas-docs/stable/indexing.html#indexing-view-versus-copy\n",
      "  \"\"\"Entry point for launching an IPython kernel.\n",
      "/Users/yilingtung/miniconda3/envs/py36/lib/python3.7/site-packages/ipykernel_launcher.py:2: SettingWithCopyWarning: \n",
      "A value is trying to be set on a copy of a slice from a DataFrame.\n",
      "Try using .loc[row_indexer,col_indexer] = value instead\n",
      "\n",
      "See the caveats in the documentation: http://pandas.pydata.org/pandas-docs/stable/indexing.html#indexing-view-versus-copy\n",
      "  \n",
      "/Users/yilingtung/miniconda3/envs/py36/lib/python3.7/site-packages/ipykernel_launcher.py:11: SettingWithCopyWarning: \n",
      "A value is trying to be set on a copy of a slice from a DataFrame.\n",
      "Try using .loc[row_indexer,col_indexer] = value instead\n",
      "\n",
      "See the caveats in the documentation: http://pandas.pydata.org/pandas-docs/stable/indexing.html#indexing-view-versus-copy\n",
      "  # This is added back by InteractiveShellApp.init_path()\n"
     ]
    },
    {
     "data": {
      "image/png": "[encoded data removed]",
      "text/plain": [
       "<Figure size 432x288 with 1 Axes>"
      ]
     },
     "metadata": {
      "needs_background": "light"
     },
     "output_type": "display_data"
    }
   ],
   "source": [
    "data_live_and_discontinued['Opportunity Assigned to Full Name'] = pd.Categorical(data_live_and_discontinued['Opportunity Assigned to Full Name'])\n",
    "data_live_and_discontinued['Opportunity Assigned to Full Name Coded'] = data_live_and_discontinued['Opportunity Assigned to Full Name'].cat.codes\n",
    "data_live_and_discontinued['Opportunity Assigned to Full Name Coded']\n",
    "\n",
    "def code_gender(x):\n",
    "    if x['Gender'] == \"Male\":\n",
    "        return \"red\"\n",
    "    else:\n",
    "        return \"blue\"\n",
    "\n",
    "data_live_and_discontinued['Gender color'] = data_live_and_discontinued.apply(lambda x: code_gender(x), axis=1)\n",
    "\n",
    "plt.scatter(data_live_and_discontinued['Opportunity Assigned to Full Name Coded'], data_live_and_discontinued['Total Sales'], c=data_live_and_discontinued['Gender color'])\n",
    "plt.show()"
   ]
  },
  {
   "cell_type": "code",
   "execution_count": 12,
   "metadata": {},
   "outputs": [
    {
     "name": "stderr",
     "output_type": "stream",
     "text": [
      "/Users/yilingtung/miniconda3/envs/py36/lib/python3.7/site-packages/ipykernel_launcher.py:5: SettingWithCopyWarning: \n",
      "A value is trying to be set on a copy of a slice from a DataFrame.\n",
      "Try using .loc[row_indexer,col_indexer] = value instead\n",
      "\n",
      "See the caveats in the documentation: http://pandas.pydata.org/pandas-docs/stable/indexing.html#indexing-view-versus-copy\n",
      "  \"\"\"\n",
      "/Users/yilingtung/miniconda3/envs/py36/lib/python3.7/site-packages/ipykernel_launcher.py:8: SettingWithCopyWarning: \n",
      "A value is trying to be set on a copy of a slice from a DataFrame.\n",
      "Try using .loc[row_indexer,col_indexer] = value instead\n",
      "\n",
      "See the caveats in the documentation: http://pandas.pydata.org/pandas-docs/stable/indexing.html#indexing-view-versus-copy\n",
      "  \n",
      "/Users/yilingtung/miniconda3/envs/py36/lib/python3.7/site-packages/ipykernel_launcher.py:9: SettingWithCopyWarning: \n",
      "A value is trying to be set on a copy of a slice from a DataFrame.\n",
      "Try using .loc[row_indexer,col_indexer] = value instead\n",
      "\n",
      "See the caveats in the documentation: http://pandas.pydata.org/pandas-docs/stable/indexing.html#indexing-view-versus-copy\n",
      "  if __name__ == '__main__':\n",
      "/Users/yilingtung/miniconda3/envs/py36/lib/python3.7/site-packages/ipykernel_launcher.py:18: SettingWithCopyWarning: \n",
      "A value is trying to be set on a copy of a slice from a DataFrame.\n",
      "Try using .loc[row_indexer,col_indexer] = value instead\n",
      "\n",
      "See the caveats in the documentation: http://pandas.pydata.org/pandas-docs/stable/indexing.html#indexing-view-versus-copy\n"
     ]
    },
    {
     "data": {
      "image/png": "[encoded data removed]",
      "text/plain": [
       "<Figure size 432x288 with 1 Axes>"
      ]
     },
     "metadata": {
      "needs_background": "light"
     },
     "output_type": "display_data"
    }
   ],
   "source": [
    "# statuses = [\"Live\", \"Discontinued sales\"]\n",
    "data_lost_prospects = data[data['Status'] == \"Lost Prospect\"]\n",
    "\n",
    "opportunity_codes = {\"eCommerce Business\": 1, \"POS Acquiring\": 2, \"Payment Terminal Business\": 3}\n",
    "data_lost_prospects['Opportunity Business Area Coded'] = data_lost_prospects['Opportunity Business Area'].replace(opportunity_codes)\n",
    "\n",
    "\n",
    "data_lost_prospects['Opportunity Assigned to Full Name'] = pd.Categorical(data_lost_prospects['Opportunity Assigned to Full Name'])\n",
    "data_lost_prospects['Opportunity Assigned to Full Name Coded'] = data_lost_prospects['Opportunity Assigned to Full Name'].cat.codes\n",
    "data_lost_prospects['Opportunity Assigned to Full Name Coded']\n",
    "\n",
    "def code_gender(x):\n",
    "    if x['Gender'] == \"Male\":\n",
    "        return \"red\"\n",
    "    else:\n",
    "        return \"blue\"\n",
    "\n",
    "data_lost_prospects['Gender color'] = data_lost_prospects.apply(lambda x: code_gender(x), axis=1)\n",
    "\n",
    "plt.scatter(data_lost_prospects['Opportunity Assigned to Full Name Coded'], data_lost_prospects['Total Sales'], c=data_lost_prospects['Gender color'])\n",
    "plt.show()"
   ]
  },
  {
   "cell_type": "code",
   "execution_count": 13,
   "metadata": {},
   "outputs": [
    {
     "name": "stderr",
     "output_type": "stream",
     "text": [
      "/Users/yilingtung/miniconda3/envs/py36/lib/python3.7/site-packages/ipykernel_launcher.py:19: SettingWithCopyWarning: \n",
      "A value is trying to be set on a copy of a slice from a DataFrame.\n",
      "Try using .loc[row_indexer,col_indexer] = value instead\n",
      "\n",
      "See the caveats in the documentation: http://pandas.pydata.org/pandas-docs/stable/indexing.html#indexing-view-versus-copy\n",
      "/Users/yilingtung/miniconda3/envs/py36/lib/python3.7/site-packages/ipykernel_launcher.py:20: SettingWithCopyWarning: \n",
      "A value is trying to be set on a copy of a slice from a DataFrame.\n",
      "Try using .loc[row_indexer,col_indexer] = value instead\n",
      "\n",
      "See the caveats in the documentation: http://pandas.pydata.org/pandas-docs/stable/indexing.html#indexing-view-versus-copy\n"
     ]
    },
    {
     "data": {
      "image/png": "[encoded data removed]",
      "text/plain": [
       "<Figure size 432x288 with 1 Axes>"
      ]
     },
     "metadata": {
      "needs_background": "light"
     },
     "output_type": "display_data"
    }
   ],
   "source": [
    "# NOT WORTH IT\n",
    "\n",
    "def color_success(x):\n",
    "    if x['Success'] == 1:\n",
    "        return \"red\"\n",
    "    elif x['Success'] == 2:\n",
    "        return \"blue\"\n",
    "\n",
    "# data_live_and_discontinued['Gender coded'] = data_live_and_discontinued.apply(lambda x: code_gender(x), axis=1)\n",
    "\n",
    "opportunity_codes = {\"eCommerce Business\": 1, \"POS Acquiring\": 2, \"Payment Terminal Business\": 3}\n",
    "data['Opportunity Business Area Coded'] = data['Opportunity Business Area'].replace(opportunity_codes)\n",
    "gender_codes = {\"Male\": 1, \"Female\": 2, \"Unassigned\": 3}\n",
    "data['Gender coded'] = data['Gender'].replace(gender_codes)\n",
    "\n",
    "data_drop_current_prospects = data[data['Status'] != \"Current Prospect\"]\n",
    "\n",
    "success_codes = {\"Live\": 2, \"Discontinued sales\": 2, \"Lost Prospect\": 1, \"Current Prospect\": 0}\n",
    "data_drop_current_prospects['Success'] = data_drop_current_prospects['Status'].replace(success_codes)\n",
    "data_drop_current_prospects['Success color'] = data_drop_current_prospects.apply(lambda x: color_success(x), axis=1)\n",
    "\n",
    "plt.scatter(data_drop_current_prospects['Gender coded'], data_drop_current_prospects['Opportunity Business Area Coded'])\n",
    "\n",
    "plt.show()"
   ]
  },
  {
   "cell_type": "code",
   "execution_count": 17,
   "metadata": {},
   "outputs": [
    {
     "name": "stdout",
     "output_type": "stream",
     "text": [
      "Dumped model to pretrained_model.joblib\n",
      "0.8366013071895425\n",
      "0.8366013071895425\n"
     ]
    },
    {
     "name": "stderr",
     "output_type": "stream",
     "text": [
      "/Users/yilingtung/miniconda3/envs/py36/lib/python3.7/site-packages/ipykernel_launcher.py:10: SettingWithCopyWarning: \n",
      "A value is trying to be set on a copy of a slice from a DataFrame.\n",
      "Try using .loc[row_indexer,col_indexer] = value instead\n",
      "\n",
      "See the caveats in the documentation: http://pandas.pydata.org/pandas-docs/stable/indexing.html#indexing-view-versus-copy\n",
      "  # Remove the CWD from sys.path while we load stuff.\n",
      "/Users/yilingtung/miniconda3/envs/py36/lib/python3.7/site-packages/ipykernel_launcher.py:48: FutureWarning: Method .as_matrix will be removed in a future version. Use .values instead.\n",
      "/Users/yilingtung/miniconda3/envs/py36/lib/python3.7/site-packages/ipykernel_launcher.py:49: FutureWarning: Method .as_matrix will be removed in a future version. Use .values instead.\n"
     ]
    }
   ],
   "source": [
    "# Logistic regression\n",
    "from sklearn.linear_model import LogisticRegression\n",
    "from sklearn.model_selection import train_test_split\n",
    "\n",
    "\n",
    "data_drop_current_prospects = data[data['Status'] != \"Current Prospect\"]\n",
    "\n",
    "# Code success variables\n",
    "success_codes = {\"Live\": 2, \"Discontinued sales\": 2, \"Lost Prospect\": 1, \"Current Prospect\": 0}\n",
    "data_drop_current_prospects['Success'] = data_drop_current_prospects['Status'].replace(success_codes)\n",
    "\n",
    "# Fill N/As\n",
    "values_for_na = {'Opportunity Business Area Coded': 1, 'Gender coded': 3}\n",
    "data_drop_current_prospects = data_drop_current_prospects.fillna(value = values_for_na)\n",
    "\n",
    "# Code sales people names\n",
    "# data_drop_current_prospects['Opportunity Assigned to Full Name'] = pd.Categorical(data_drop_current_prospects['Opportunity Assigned to Full Name'])\n",
    "# data_drop_current_prospects['Opportunity Assigned to Full Name Coded'] = data_drop_current_prospects['Opportunity Assigned to Full Name'].cat.codes\n",
    "# data_drop_current_prospects['Opportunity Assigned to Full Name Coded']\n",
    "\n",
    "data_drop_current_prospects = data_drop_current_prospects[data_drop_current_prospects['Opportunity Assigned to Full Name'] != \"Unassigned Unassigned\"]\n",
    "\n",
    "dummies = pd.get_dummies(data_drop_current_prospects['Opportunity Assigned to Full Name'])\n",
    "dummies_columns = dummies.columns\n",
    "data_drop_current_prospects = pd.concat([data_drop_current_prospects, dummies], axis=1)\n",
    "\n",
    "dummies_vertical = pd.get_dummies(data_drop_current_prospects['Opportunity Business Area Coded'])\n",
    "dummies_vertical_cols = dummies_vertical.columns\n",
    "data_drop_current_prospects = pd.concat([data_drop_current_prospects, dummies_vertical], axis=1)\n",
    "\n",
    "# Code same sales person as referral\n",
    "sales_person_referal_dict = {True: 1, False: 0, \"Not applicable\": -1}\n",
    "data_drop_current_prospects['Sales Person Referral Coded'] = data_drop_current_prospects['Same salesperson as referring company'].replace(sales_person_referal_dict)\n",
    "\n",
    "# Code opportunity sales process\n",
    "sales_process_dict = {\"New Business\": 1, \"Upsell\": 0}\n",
    "data_drop_current_prospects['Sales Process Coded'] = data_drop_current_prospects['Opportunity Sales Process'].replace(sales_process_dict)\n",
    "\n",
    "# X variable columns\n",
    "# columns = ['Gender coded', 'Opportunity Business Area Coded', 'Sales Person Referral Coded', 'Sales Process Coded']\n",
    "columns = ['Gender coded', 'Sales Person Referral Coded', 'Sales Process Coded']\n",
    "for column in dummies_vertical_cols:\n",
    "    columns.append(column)\n",
    "for column in dummies_columns:\n",
    "    columns.append(column)\n",
    "\n",
    "# Predictive variables: gender, vertical, Same salesperson as referring company, total sales, opportunity sales process\n",
    "X = data_drop_current_prospects.loc[:,columns].as_matrix()\n",
    "y = data_drop_current_prospects['Success'].as_matrix()\n",
    "\n",
    "X_train, X_test, y_train, y_test = train_test_split(X,y, test_size = 0.2)\n",
    "\n",
    "outputFilename = 'pretrained_model.joblib'\n",
    "log_reg = LogisticRegression().fit(X_train,y_train)\n",
    "\n",
    "# Write classifier to file\n",
    "joblib.dump(log_reg, outputFilename)\n",
    "print(\"Dumped model to %s\" % outputFilename)\n",
    "\n",
    "#Read classifier from file\n",
    "log_reg_file = joblib.load(outputFilename)\n",
    "\n",
    "print(log_reg.score(X_test, y_test))\n",
    "print(log_reg_file.score(X_test, y_test))"
   ]
  },
  {
   "cell_type": "code",
   "execution_count": null,
   "metadata": {},
   "outputs": [],
   "source": [
    "data_drop_current_prospects.groupby(['Status']).size()\n",
    "# data_drop_current_prospects.loc[:,['Gender coded', 'Opportunity Business Area Coded', 'Sales Person Referral Coded', 'Total Sales', 'Sales Process Coded']]\n",
    "# np.any(np.isnan(X))\n",
    "# np.argwhere(np.isnan(X[:,4]))\n",
    "# X[[3470, 3635],:]"
   ]
  },
  {
   "cell_type": "code",
   "execution_count": null,
   "metadata": {},
   "outputs": [],
   "source": [
    "import copy\n",
    "\n",
    "X_test_sales_person = copy.deepcopy(X_test)\n",
    "\n",
    "# TEST IF WE ALWAYS GET AT LEAST ONE GREEN\n",
    "# lead = 9\n",
    "\n",
    "count_no_green = 0\n",
    "for lead in range(len(X_test_sales_person)):\n",
    "\n",
    "    for i in range(50):\n",
    "        X_test_sales_person[lead,6+i] = 0\n",
    "\n",
    "    X_test_sales_person_row = X_test_sales_person[lead,:].reshape(1,-1) \n",
    "    green = False\n",
    "    for i in range(50):\n",
    "        X_test_sales_person_row[0][6+i] = 1\n",
    "        prob = log_reg.predict_proba(X_test_sales_person_row)[0][1]\n",
    "        if prob > 0.7:\n",
    "            green = True\n",
    "        X_test_sales_person_row[0][6+i] = 0\n",
    "    if green:\n",
    "        result = \" can have a 70% chance of success.\"\n",
    "    else:\n",
    "        result = \" cannot have a 70% chance of success.\"\n",
    "        count_no_green += 1\n",
    "    print(\"Lead number \"+str(lead)+result)\n",
    "print(count_no_green)"
   ]
  },
  {
   "cell_type": "code",
   "execution_count": null,
   "metadata": {},
   "outputs": [],
   "source": [
    "# TEST LEADS INDIVIDUALLY\n",
    "\n",
    "lead = 7\n",
    "\n",
    "for i in range(50):\n",
    "    X_test_sales_person[lead,6+i] = 0\n",
    "    \n",
    "X_test_sales_person_row = X_test_sales_person[lead,:].reshape(1,-1) \n",
    "    \n",
    "for i in range(50):\n",
    "    X_test_sales_person_row[0][6+i] = 1\n",
    "    prob = log_reg.predict_proba(X_test_sales_person_row)[0][1]\n",
    "    color = \"Red\"\n",
    "    if prob > 0.7:\n",
    "        color = \"Green\"\n",
    "    elif prob > 0.5:\n",
    "        color = \"Yellow\"\n",
    "    print(\"\\nSalesperson: \"+dummies_columns[i])\n",
    "    print(color)\n",
    "    X_test_sales_person_row[0][6+i] = 0"
   ]
  },
  {
   "cell_type": "code",
   "execution_count": null,
   "metadata": {},
   "outputs": [],
   "source": [
    "# TEST LEADS INDIVIDUALLY\n",
    "\n",
    "lead = 66\n",
    "\n",
    "for i in range(50):\n",
    "    X_test_sales_person[lead,6+i] = 0\n",
    "    \n",
    "X_test_sales_person_row = X_test_sales_person[lead,:].reshape(1,-1) \n",
    "    \n",
    "for i in range(50):\n",
    "    X_test_sales_person_row[0][6+i] = 1\n",
    "    prob = log_reg.predict_proba(X_test_sales_person_row)[0][1]\n",
    "    color = \"Red\"\n",
    "    if prob > 0.7:\n",
    "        color = \"Green\"\n",
    "    elif prob > 0.5:\n",
    "        color = \"Yellow\"\n",
    "    print(\"\\nSalesperson: \"+dummies_columns[i])\n",
    "    print(color)\n",
    "    X_test_sales_person_row[0][6+i] = 0"
   ]
  },
  {
   "cell_type": "code",
   "execution_count": null,
   "metadata": {},
   "outputs": [],
   "source": []
  }
 ],
 "metadata": {
  "kernelspec": {
   "display_name": "Python 2",
   "language": "python",
   "name": "python2"
  },
  "language_info": {
   "codemirror_mode": {
    "name": "ipython",
    "version": 2
   },
   "file_extension": ".py",
   "mimetype": "text/x-python",
   "name": "python",
   "nbconvert_exporter": "python",
   "pygments_lexer": "ipython2",
   "version": "2.7.15"
  }
 },
 "nbformat": 4,
 "nbformat_minor": 2
}
