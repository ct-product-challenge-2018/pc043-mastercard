{
 "cells": [
  {
   "cell_type": "code",
   "execution_count": 11,
   "metadata": {
    "collapsed": true
   },
   "outputs": [],
   "source": [
    "import numpy as np\n",
    "import pandas as pd\n",
    "import seaborn as sns; sns.set()\n",
    "import matplotlib.pyplot as plt\n",
    "\n",
    "pd.options.display.max_columns = 4000\n",
    "pd.options.display.max_rows = 4000\n",
    "pd.options.display.max_seq_items = 4000"
   ]
  },
  {
   "cell_type": "code",
   "execution_count": 12,
   "metadata": {
    "collapsed": true
   },
   "outputs": [],
   "source": [
    "datafile = r\"/Users/kathleenszabo/Documents/Cornell Tech/Product Studio/b2bDataAnalysisDataset.xlsx\"\n",
    "data = pd.read_excel(datafile)"
   ]
  },
  {
   "cell_type": "code",
   "execution_count": 13,
   "metadata": {
    "collapsed": true
   },
   "outputs": [],
   "source": [
    "# Same sales person between referring company and listed company\n",
    "\n",
    "for i in range(len(data)):\n",
    "    if pd.isnull(data.iloc[i,4]):\n",
    "        data.loc[i,'Same salesperson as referring company'] = \"Not applicable\"\n",
    "    else:\n",
    "        if data.iloc[i,4][:7] == \"Company\":                \n",
    "            x = np.argwhere(data['Account Name'] == data.iloc[i,4])\n",
    "            if len(x) == 0:\n",
    "                data.loc[i,'Same salesperson as referring company'] = False\n",
    "            else:\n",
    "                assigned_salespeople = data.iloc[x[0],:]\n",
    "                assigned_salespeople = assigned_salespeople['Opportunity Assigned to Full Name']\n",
    "                if data.iloc[i, 2] in assigned_salespeople.item():\n",
    "                    data.loc[i,'Same salesperson as referring company'] = True\n",
    "                else:\n",
    "                    data.loc[i,'Same salesperson as referring company'] = False\n",
    "        else:\n",
    "            data.loc[i,'Same salesperson as referring company'] = \"Not applicable\""
   ]
  },
  {
   "cell_type": "code",
   "execution_count": 14,
   "metadata": {
    "collapsed": true
   },
   "outputs": [],
   "source": [
    "# Add in total sales column\n",
    "data['Total Sales'] = (12 * data['Monthly Revenue']) + data['Fixed Revenue'] + data['Yearly Revenue']"
   ]
  },
  {
   "cell_type": "code",
   "execution_count": 15,
   "metadata": {
    "collapsed": true
   },
   "outputs": [],
   "source": [
    "# Update sales status\n",
    "\n",
    "def find_status(x):\n",
    "    if x['Sales Stage'] == \"Live\":\n",
    "        if pd.isnull(x['Disqualified Date']):\n",
    "            return \"Live\"\n",
    "        else:\n",
    "            return \"Discontinued sales\"\n",
    "    else:\n",
    "        if pd.isnull(x['Disqualified Date']):\n",
    "            return \"Current Prospect\"\n",
    "        else:\n",
    "            return \"Lost Prospect\"\n",
    "\n",
    "data['Status'] = data.apply(lambda x: find_status(x), axis=1)"
   ]
  },
  {
   "cell_type": "code",
   "execution_count": 16,
   "metadata": {
    "collapsed": true
   },
   "outputs": [],
   "source": [
    "# Scatter plot comparing total sales to business area\n",
    "\n",
    "opportunity_codes = {\"eCommerce Business\": 1, \"POS Acquiring\": 2, \"Payment Terminal Business\": 3}\n",
    "data['Opportunity Business Area Coded'] = data['Opportunity Business Area'].replace(opportunity_codes)"
   ]
  },
  {
   "cell_type": "code",
   "execution_count": 17,
   "metadata": {
    "scrolled": true
   },
   "outputs": [
    {
     "name": "stderr",
     "output_type": "stream",
     "text": [
      "/anaconda/lib/python3.6/site-packages/ipykernel_launcher.py:10: SettingWithCopyWarning: \n",
      "A value is trying to be set on a copy of a slice from a DataFrame.\n",
      "Try using .loc[row_indexer,col_indexer] = value instead\n",
      "\n",
      "See the caveats in the documentation: http://pandas.pydata.org/pandas-docs/stable/indexing.html#indexing-view-versus-copy\n",
      "  # Remove the CWD from sys.path while we load stuff.\n"
     ]
    }
   ],
   "source": [
    "# Logistic regression\n",
    "from sklearn.linear_model import LogisticRegression\n",
    "from sklearn.model_selection import train_test_split\n",
    "\n",
    "\n",
    "data_drop_current_prospects = data[data['Status'] != \"Current Prospect\"]\n",
    "\n",
    "# Code success variables\n",
    "success_codes = {\"Live\": 2, \"Discontinued sales\": 2, \"Lost Prospect\": 1, \"Current Prospect\": 0}\n",
    "data_drop_current_prospects['Success'] = data_drop_current_prospects['Status'].replace(success_codes)\n",
    "\n",
    "# Fill N/As\n",
    "values_for_na = {'Opportunity Business Area Coded': 1, 'Gender coded': 3}\n",
    "data_drop_current_prospects = data_drop_current_prospects.fillna(value = values_for_na)\n",
    "\n",
    "data_drop_current_prospects = data_drop_current_prospects[data_drop_current_prospects['Opportunity Assigned to Full Name'] != \"Unassigned Unassigned\"]\n",
    "\n",
    "dummies = pd.get_dummies(data_drop_current_prospects['Opportunity Assigned to Full Name'])\n",
    "dummies_columns = dummies.columns\n",
    "\n",
    "data_drop_current_prospects = pd.concat([data_drop_current_prospects, dummies], axis=1)\n",
    "\n",
    "dummies_vertical = pd.get_dummies(data_drop_current_prospects['Opportunity Business Area Coded'])\n",
    "dummies_vertical_cols = dummies_vertical.columns\n",
    "data_drop_current_prospects = pd.concat([data_drop_current_prospects, dummies_vertical], axis=1)\n",
    "\n",
    "# Code same sales person as referral\n",
    "sales_person_referal_dict = {True: 1, False: 0, \"Not applicable\": -1}\n",
    "data_drop_current_prospects['Sales Person Referral Coded'] = data_drop_current_prospects['Same salesperson as referring company'].replace(sales_person_referal_dict)\n",
    "\n",
    "# Code opportunity sales process\n",
    "sales_process_dict = {\"New Business\": 1, \"Upsell\": 0}\n",
    "data_drop_current_prospects['Sales Process Coded'] = data_drop_current_prospects['Opportunity Sales Process'].replace(sales_process_dict)\n",
    "\n",
    "# Code whether it was a referral in general\n",
    "data_drop_current_prospects['Referral'] = 1.0 * (data_drop_current_prospects['Sales Person Referral Coded'] > -1)\n",
    "\n",
    "# X variable columns\n",
    "columns = ['Referral', 'Sales Process Coded']\n",
    "\n",
    "for column in dummies_vertical_cols:\n",
    "    columns.append(column)\n",
    "for column in dummies_columns:\n",
    "    columns.append(column)\n",
    "\n",
    "# Predictive variables: gender, vertical, Same salesperson as referring company, total sales, opportunity sales process\n",
    "X = data_drop_current_prospects.loc[:,columns].as_matrix()\n",
    "y = data_drop_current_prospects['Success'].as_matrix()"
   ]
  },
  {
   "cell_type": "code",
   "execution_count": null,
   "metadata": {},
   "outputs": [],
   "source": []
  },
  {
   "cell_type": "code",
   "execution_count": 30,
   "metadata": {},
   "outputs": [],
   "source": [
    "# New columns for printing data to csv\n",
    "\n",
    "columns_updated_sp_names = ['Referral', 'Sales Process Coded']\n",
    "\n",
    "dummies_vertical_cols = [\"eCommerce Business\", \"POS Acquiring\", \"Payment Terminal Business\"]\n",
    "for column in dummies_vertical_cols:\n",
    "    columns_updated_sp_names.append(\"Opportunity Business Area \"+column)\n",
    "np.random.seed(0)\n",
    "salesperson_ids = []\n",
    "for i in range(len(dummies_columns)):\n",
    "    random_int = np.random.randint(10000,99999)\n",
    "    columns_updated_sp_names.append(\"Salesperson \"+str(random_int)+str(i%10))\n",
    "    salesperson_ids.append(\"Salesperson \"+str(random_int)+str(i%10))\n",
    "\n",
    "columns_for_export = columns_updated_sp_names\n",
    "columns_for_export.append(\"Success\")\n",
    "data_for_export = pd.concat([data_drop_current_prospects.loc[:,columns],data_drop_current_prospects['Success']], axis=1)\n",
    "data_for_export.columns = columns_for_export\n",
    "data_for_export.to_csv('Data_to_read_in.csv')\n",
    "\n",
    "# pd.DataFrame(X_train, columns=columns_updated_sp_names).to_csv('X_train_b2b.csv')\n",
    "\n",
    "\n",
    "# pd.DataFrame(X_train, columns=columns_updated_sp_names).to_csv('X_train_b2b.csv')\n",
    "# pd.DataFrame(X_test, columns=columns_updated_sp_names).to_csv('X_test_b2b.csv')\n",
    "# pd.DataFrame(y_train, columns=['Success']).to_csv('y_train_b2b.csv')\n",
    "# pd.DataFrame(y_test, columns=['Success']).to_csv('y_test_b2b.csv')"
   ]
  },
  {
   "cell_type": "code",
   "execution_count": 90,
   "metadata": {},
   "outputs": [
    {
     "name": "stdout",
     "output_type": "stream",
     "text": [
      "Score of the model: 0.852287581699\n"
     ]
    }
   ],
   "source": [
    "X_train, X_test, y_train, y_test = train_test_split(X,y, test_size = 0.2, random_state = 1)\n",
    "\n",
    "log_reg = LogisticRegression().fit(X_train,y_train)\n",
    "print(\"Score of the model: \"+str(log_reg.score(X_test, y_test)))"
   ]
  },
  {
   "cell_type": "code",
   "execution_count": 92,
   "metadata": {},
   "outputs": [
    {
     "data": {
      "image/png": "[encoded data removed]",
      "text/plain": [
       "<matplotlib.figure.Figure at 0x10d6b4588>"
      ]
     },
     "metadata": {},
     "output_type": "display_data"
    },
    {
     "name": "stdout",
     "output_type": "stream",
     "text": [
      "AUC: 0.902095328977\n"
     ]
    }
   ],
   "source": [
    "# TEST THE MODEL\n",
    "\n",
    "from sklearn.metrics import roc_curve\n",
    "y_score = log_reg.predict_proba(X_test)[:,1]\n",
    "y_test_boolean = (y_test == 2)\n",
    "\n",
    "#Define a method calculating the false positive rate and the true positive rate to make the ROC curve\n",
    "def calculate_false_true_pos_rate(cutoff, y_score):\n",
    "    \n",
    "    false_positive = 0\n",
    "    true_positive = 0\n",
    "    false_negative = 0\n",
    "    true_negative = 0\n",
    "    \n",
    "    # Creates an array filled with True or False depending on whether the distance is less than our cutoff or not\n",
    "    positive_negative = (y_score > cutoff)\n",
    "    \n",
    "    # True positives are those where the distance is less than the cutoff and it's actually a match\n",
    "    num_true_positives = np.sum(np.logical_and(positive_negative, y_test_boolean))\n",
    "    # Actual positives are any where it's actually a match\n",
    "    num_actual_positives = np.sum(y_test_boolean)\n",
    "    true_positive_rate = num_true_positives / num_actual_positives\n",
    "    \n",
    "    # False positives are those wehre the distance is less than the cutoff but it's not actually a match\n",
    "    num_false_positives = np.sum(np.logical_and(positive_negative, np.logical_not(y_test_boolean)))\n",
    "    # Actual negatives are any where it's not a match\n",
    "    num_actual_negatives = np.sum(np.logical_not(y_test_boolean))\n",
    "    false_positive_rate = num_false_positives / num_actual_negatives\n",
    "    \n",
    "    return false_positive_rate, true_positive_rate\n",
    "\n",
    "pairs = []\n",
    "for i in range(0,100):\n",
    "    false_positive_rate, true_positive_rate = calculate_false_true_pos_rate(i/100.0, y_score)\n",
    "    pairs.append([false_positive_rate, true_positive_rate])\n",
    "    \n",
    "pairs_np = np.asarray(pairs)\n",
    "plt.plot(pairs_np[:,0], pairs_np[:,1])\n",
    "plt.xlabel('False positive rate')\n",
    "plt.ylabel('True positive rate')\n",
    "plt.savefig(r\"/Users/kathleenszabo/Documents/Cornell Tech/Product Studio/pc043-mastercard/ROC curve.png\")\n",
    "plt.show()\n",
    "plt.close()\n",
    "\n",
    "# Test the model: ROC SCORE\n",
    "from sklearn.metrics import roc_auc_score\n",
    "print(\"AUC: \" + str(roc_auc_score(y_test_boolean.astype(int), y_score)))"
   ]
  },
  {
   "cell_type": "code",
   "execution_count": 93,
   "metadata": {
    "collapsed": true,
    "scrolled": true
   },
   "outputs": [],
   "source": [
    "# Create database of salesperson information - average success rate and ID\n",
    "\n",
    "table = pd.pivot_table(data_drop_current_prospects, values=['ID'], index=['Opportunity Assigned to Full Name'], columns=['Success'], aggfunc=len, margins=True)\n",
    "table2 = table.div( table.iloc[:,-1], axis=0 )\n",
    "table2_df = pd.DataFrame(table2.to_records())\n",
    "\n",
    "salesperson_data = pd.concat([table2_df.iloc[:,2], pd.DataFrame(salesperson_ids)], axis = 1)\n",
    "salesperson_data.columns = ['Overall success rate', 'Salesperson ID']\n",
    "\n",
    "# Export salesperson data\n",
    "salesperson_data.to_csv(\"Salesperson_avg_success_rate.csv\")"
   ]
  },
  {
   "cell_type": "code",
   "execution_count": 94,
   "metadata": {},
   "outputs": [
    {
     "name": "stdout",
     "output_type": "stream",
     "text": [
      "0\n"
     ]
    }
   ],
   "source": [
    "# TEST IF WE ALWAYS GET AT LEAST ONE GREEN\n",
    "\n",
    "import copy\n",
    "\n",
    "X_test_sales_person = copy.deepcopy(X_test)\n",
    "\n",
    "skip_columns = 5\n",
    "\n",
    "count_no_green = 0\n",
    "for lead in range(len(X_test_sales_person)):\n",
    "\n",
    "    for i in range(50):\n",
    "        X_test_sales_person[lead,skip_columns+i] = 0\n",
    "\n",
    "    X_test_sales_person_row = X_test_sales_person[lead,:].reshape(1,-1) \n",
    "    \n",
    "    green = False\n",
    "    \n",
    "    for i in range(50):\n",
    "        \n",
    "        # Replace which sales person is being plugged in\n",
    "        X_test_sales_person_row[0][skip_columns+i] = 1\n",
    "\n",
    "        # Predict the probability of a sale under this salesperson\n",
    "        prob = log_reg.predict_proba(X_test_sales_person_row)[0][1]\n",
    "        if prob > 0.7:\n",
    "            green = True\n",
    "        \n",
    "        # Reset salesperson marker to 0\n",
    "        X_test_sales_person_row[0][skip_columns+i] = 0\n",
    "    \n",
    "    if green:\n",
    "        result = \" can have a 70% chance of success.\"\n",
    "    \n",
    "    else:\n",
    "        result = \" cannot have a 70% chance of success.\"\n",
    "        count_no_green += 1\n",
    "print(count_no_green)"
   ]
  },
  {
   "cell_type": "code",
   "execution_count": 95,
   "metadata": {
    "scrolled": false
   },
   "outputs": [
    {
     "name": "stdout",
     "output_type": "stream",
     "text": [
      "\n",
      "Salesperson: Salesperson 535671\n",
      "\n",
      "Salesperson: Salesperson 962936\n",
      "\n",
      "Salesperson: Salesperson 904718\n",
      "\n",
      "Salesperson: Salesperson 626202\n",
      "\n",
      "Salesperson: Salesperson 901863\n",
      "\n",
      "Salesperson: Salesperson 270894\n",
      "\n",
      "Salesperson: Salesperson 806082\n",
      "\n",
      "Salesperson: Salesperson 107972\n",
      "\n",
      "Salesperson: Salesperson 538903\n"
     ]
    }
   ],
   "source": [
    "# TEST LEADS INDIVIDUALLY\n",
    "\n",
    "lead = 90\n",
    "\n",
    "for i in range(50):\n",
    "    X_test_sales_person[lead,skip_columns+i] = 0\n",
    "    \n",
    "X_test_sales_person_row = X_test_sales_person[lead,:].reshape(1,-1) \n",
    "    \n",
    "for i in range(50):\n",
    "    X_test_sales_person_row[0][skip_columns+i] = 1\n",
    "\n",
    "    prob = log_reg.predict_proba(X_test_sales_person_row)[0][1]\n",
    "    color = \"Red\"\n",
    "    if prob > 0.7:\n",
    "        color = \"Green\"\n",
    "    elif prob > 0.5:\n",
    "        color = \"Yellow\"\n",
    "    if color == \"Green\":\n",
    "        print(\"\\nSalesperson: \"+salesperson_ids[i])\n",
    "    X_test_sales_person_row[0][skip_columns+i] = 0"
   ]
  },
  {
   "cell_type": "code",
   "execution_count": 96,
   "metadata": {
    "scrolled": true
   },
   "outputs": [
    {
     "name": "stdout",
     "output_type": "stream",
     "text": [
      "\n",
      "Salesperson 782680\n",
      "Overall success rate: 0.1125\n",
      "Predicted success rate for this lead: 0.38253693493\n",
      "\n",
      "Salesperson 526132\n",
      "Overall success rate: 0.0208333333333\n",
      "Predicted success rate for this lead: 0.132820960979\n",
      "\n",
      "Salesperson 312434\n",
      "Overall success rate: 0.307692307692\n",
      "Predicted success rate for this lead: 0.538240419244\n",
      "\n",
      "Salesperson 519935\n",
      "Overall success rate: 0.1875\n",
      "Predicted success rate for this lead: 0.325752582554\n",
      "\n",
      "Salesperson 904718\n",
      "Overall success rate: 0.807692307692\n",
      "Predicted success rate for this lead: 0.902824665146\n",
      "\n",
      "Salesperson 909669\n",
      "Overall success rate: 0.0603448275862\n",
      "Predicted success rate for this lead: 0.231705975403\n",
      "\n",
      "Salesperson 495121\n",
      "Overall success rate: 0.113636363636\n",
      "Predicted success rate for this lead: 0.26092063444\n",
      "\n",
      "Salesperson 289836\n",
      "Overall success rate: 0.444444444444\n",
      "Predicted success rate for this lead: 0.544146610576\n",
      "\n",
      "Salesperson 996887\n",
      "Overall success rate: 0.180616740088\n",
      "Predicted success rate for this lead: 0.406022937044\n",
      "\n",
      "Salesperson 169219\n",
      "Overall success rate: 0.347826086957\n",
      "Predicted success rate for this lead: 0.466947386076\n",
      "\n",
      "Salesperson 806082\n",
      "Overall success rate: 0.884210526316\n",
      "Predicted success rate for this lead: 0.901609129478\n",
      "\n",
      "Salesperson 476193\n",
      "Overall success rate: 0.316865417376\n",
      "Predicted success rate for this lead: 0.626031209903\n",
      "\n",
      "Salesperson 178774\n",
      "Overall success rate: 0.0657894736842\n",
      "Predicted success rate for this lead: 0.202825772214\n",
      "\n",
      "Salesperson 831357\n",
      "Overall success rate: 0.38\n",
      "Predicted success rate for this lead: 0.641031416397\n",
      "\n",
      "Salesperson 579549\n",
      "Overall success rate: 0.545454545455\n",
      "Predicted success rate for this lead: 0.596146101328\n",
      "\n",
      "Salesperson 346750\n",
      "Overall success rate: 0.0666666666667\n",
      "Predicted success rate for this lead: 0.375062755261\n",
      "\n",
      "Salesperson 419211\n",
      "Overall success rate: 0.018691588785\n",
      "Predicted success rate for this lead: 0.159661278005\n",
      "\n",
      "Salesperson 598113\n",
      "Overall success rate: 0.432432432432\n",
      "Predicted success rate for this lead: 0.518220353853\n",
      "\n",
      "Salesperson 787554\n",
      "Overall success rate: 0.483870967742\n",
      "Predicted success rate for this lead: 0.660069698715\n",
      "\n",
      "Salesperson 918576\n",
      "Overall success rate: 0.5\n",
      "Predicted success rate for this lead: 0.602826704556\n",
      "\n",
      "Salesperson 946658\n",
      "Overall success rate: 0.333333333333\n",
      "Predicted success rate for this lead: 0.648294215188\n",
      "\n",
      "Salesperson 598660\n",
      "Overall success rate: 0.0727272727273\n",
      "Predicted success rate for this lead: 0.261735886614\n",
      "\n",
      "Salesperson 217232\n",
      "Overall success rate: 0.444444444444\n",
      "Predicted success rate for this lead: 0.685734360522\n",
      "\n",
      "Salesperson 681465\n",
      "Overall success rate: 0.333333333333\n",
      "Predicted success rate for this lead: 0.568359441464\n",
      "\n",
      "Salesperson 991417\n",
      "Overall success rate: 0.111111111111\n",
      "Predicted success rate for this lead: 0.318940406587\n",
      "\n",
      "Salesperson 815578\n",
      "Overall success rate: 0.0285714285714\n",
      "Predicted success rate for this lead: 0.163049161516\n"
     ]
    }
   ],
   "source": [
    "# TEST LEADS INDIVIDUALLY - compare overall success rate vs predicted for specific lead\n",
    "\n",
    "lead = 15\n",
    "\n",
    "for i in range(50):\n",
    "    X_test_sales_person[lead,skip_columns+i] = 0\n",
    "    \n",
    "X_test_sales_person_row = X_test_sales_person[lead,:].reshape(1,-1) \n",
    "    \n",
    "for i in range(50):\n",
    "    X_test_sales_person_row[0][skip_columns+i] = 1\n",
    "\n",
    "    prob = log_reg.predict_proba(X_test_sales_person_row)[0][1]\n",
    "    if prob > salesperson_data.loc[i, 'Overall success rate']:\n",
    "        print(\"\\n\"+salesperson_data.loc[i, 'Salesperson ID'])\n",
    "        print(\"Overall success rate: \"+str(salesperson_data.loc[i, 'Overall success rate']))\n",
    "        print(\"Predicted success rate for this lead: \"+str(prob))\n",
    "    \n",
    "    X_test_sales_person_row[0][skip_columns+i] = 0"
   ]
  },
  {
   "cell_type": "code",
   "execution_count": null,
   "metadata": {
    "collapsed": true
   },
   "outputs": [],
   "source": []
  },
  {
   "cell_type": "code",
   "execution_count": null,
   "metadata": {
    "collapsed": true
   },
   "outputs": [],
   "source": []
  }
 ],
 "metadata": {
  "kernelspec": {
   "display_name": "Python 3",
   "language": "python",
   "name": "python3"
  },
  "language_info": {
   "codemirror_mode": {
    "name": "ipython",
    "version": 3
   },
   "file_extension": ".py",
   "mimetype": "text/x-python",
   "name": "python",
   "nbconvert_exporter": "python",
   "pygments_lexer": "ipython3",
   "version": "3.6.1"
  }
 },
 "nbformat": 4,
 "nbformat_minor": 2
}
