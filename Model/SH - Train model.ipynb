{
 "cells": [
  {
   "cell_type": "code",
   "execution_count": 115,
   "metadata": {},
   "outputs": [],
   "source": [
    "from sklearn.datasets import load_iris\n",
    "from sklearn.datasets import make_friedman1\n",
    "from sklearn.feature_selection import RFE\n",
    "from sklearn.linear_model import LogisticRegression\n",
    "from sklearn.metrics import accuracy_score\n",
    "from sklearn.model_selection import train_test_split\n",
    "import pandas as pd\n",
    "import numpy as np\n"
   ]
  },
  {
   "cell_type": "code",
   "execution_count": 116,
   "metadata": {},
   "outputs": [],
   "source": [
    "def tryNFeatures(x_train, y_train, x_test, y_test, clf, n):\n",
    "    selector = RFE(clf, n, step=1)\n",
    "    selector = selector.fit(x_train, y_train)\n",
    "    accuracy = accuracy_score(y_test, selector.predict(x_test))\n",
    "    return selector.support_, accuracy"
   ]
  },
  {
   "cell_type": "code",
   "execution_count": 117,
   "metadata": {},
   "outputs": [],
   "source": [
    "def findBestFeatures(x_train, x_test, y_train, y_test):\n",
    "    clf = LogisticRegression(random_state=0, solver='lbfgs', multi_class='multinomial')\n",
    "    bestAccuracy = 0\n",
    "    bestFeatures = None\n",
    "    for n in range(1, x_train.shape[1]):\n",
    "        features, accuracy = tryNFeatures(x_train, y_train, x_test, y_test, clf, n)\n",
    "        #strictly bigger since we preffer less features\n",
    "        if accuracy > bestAccuracy:\n",
    "            bestAccuracy = accuracy\n",
    "            bestFeatures = features\n",
    "    return bestFeatures"
   ]
  },
  {
   "cell_type": "code",
   "execution_count": 176,
   "metadata": {},
   "outputs": [],
   "source": [
    "def chooseFeatures(df):\n",
    "    #split dataframe to x and y\n",
    "    X, y = getXY(df)\n",
    "\n",
    "    #split into train and test\n",
    "    X_train, X_test, y_train, y_test = train_test_split(X.values, y.values, test_size = 0.2)\n",
    "    \n",
    "    #find most important features\n",
    "    includedFeatures =  findBestFeatures(X_train, X_test, y_train, y_test)\n",
    "    \n",
    "    #Add the salespersons to the data model\n",
    "    filter_col = [col for col in X if col.startswith('SP_')]\n",
    "    for col in filter_col:\n",
    "        includedFeatures[X.columns.get_loc(col)]= True\n",
    "    \n",
    "    featuresNames = []\n",
    "    #Return names of includedFeatures\n",
    "    for i, include in enumerate(includedFeatures):\n",
    "        if include:\n",
    "            featuresNames.append(X.columns[i])\n",
    "    return featuresNames"
   ]
  },
  {
   "cell_type": "code",
   "execution_count": 177,
   "metadata": {},
   "outputs": [],
   "source": [
    "def getXY(df):\n",
    "    x = df.loc[:, df.columns != 'Success']\n",
    "    y = df['Success']\n",
    "    return x, y"
   ]
  },
  {
   "cell_type": "code",
   "execution_count": 178,
   "metadata": {},
   "outputs": [],
   "source": [
    "def dropIrrelevantFeatures(df, includedFeatures):\n",
    "    relevantDf = df[includedFeatures]\n",
    "    relevantDf['Success'] = df['Success'].values\n",
    "    return relevantDf"
   ]
  },
  {
   "cell_type": "code",
   "execution_count": 185,
   "metadata": {},
   "outputs": [],
   "source": [
    "def checkSalespersonsPerLead(test_df, log_reg, salespersonLoc):    \n",
    "    goodLeadsSalespersons = []\n",
    "    nrFailed = 0\n",
    "    # TEST IF WE ALWAYS GET AT LEAST ONE GREEN\n",
    "    for lead in range(len(test_df)):\n",
    "        goodSalespersons = []\n",
    "        for i in salespersonLoc:\n",
    "            test_df[lead,i] = 0\n",
    "\n",
    "        test_df_row = test_df[lead,:].reshape(1,-1)\n",
    "           \n",
    "        green = False\n",
    "        for i in salespersonLoc:\n",
    "            test_df_row[0][i] = 1\n",
    "            prob = log_reg.predict_proba(test_df_row)[0][1]\n",
    "            if prob > 0.7:\n",
    "                goodSalespersons.append(i)\n",
    "            test_df_row[0][i] = 0\n",
    "        if len(goodSalespersons) != 0:\n",
    "            goodLeadsSalespersons.append(goodSalespersons)\n",
    "        else:\n",
    "            nrFailed += 1\n",
    "    return float(nrFailed)/len(test_df), checkDiverse(goodLeadsSalespersons, len(salespersonLoc))"
   ]
  },
  {
   "cell_type": "code",
   "execution_count": 186,
   "metadata": {},
   "outputs": [],
   "source": [
    "def checkDiverse(goodLeadsSalespersons, nrSalesPersons):    \n",
    "    return len(set([i[0] for i in goodLeadsSalespersons])) > nrSalesPersons/10"
   ]
  },
  {
   "cell_type": "code",
   "execution_count": 187,
   "metadata": {},
   "outputs": [],
   "source": [
    "def createModel(df):\n",
    "    #Choose relevant features\n",
    "    features = chooseFeatures(df) \n",
    "    relevantDf = dropIrrelevantFeatures(df, features)\n",
    "    \n",
    "    #Make model\n",
    "    clf = LogisticRegression(random_state=0, solver='lbfgs', multi_class='multinomial')\n",
    "    X, y = getXY(df)\n",
    "    \n",
    "    #need some filter here\n",
    "    percentageFailed, diverse = testModel(relevantDf, clf)\n",
    "\n",
    "    \n",
    "    return clf.fit(X, y), relevantDf"
   ]
  },
  {
   "cell_type": "code",
   "execution_count": 188,
   "metadata": {},
   "outputs": [],
   "source": [
    "def testModel(df, clf):\n",
    "    #split dataframe to x and y\n",
    "    X, y = getXY(df)\n",
    "    \n",
    "    filter_col = [col for col in X if col.startswith('SP_')]\n",
    "    \n",
    "    salespersonLoc = []\n",
    "    for col in filter_col:\n",
    "        salespersonLoc.append(X.columns.get_loc(col))\n",
    "        \n",
    "    #split into train and test\n",
    "    X_train, X_test, y_train, y_test = train_test_split(X.values, y.values, test_size = 0.2)\n",
    "    log_reg = clf.fit(X_train, y_train)\n",
    "    \n",
    "    return checkSalespersonsPerLead(X_test, log_reg, salespersonLoc)\n",
    "    "
   ]
  },
  {
   "cell_type": "code",
   "execution_count": 189,
   "metadata": {},
   "outputs": [
    {
     "name": "stderr",
     "output_type": "stream",
     "text": [
      "C:\\Users\\Sunna Halldorsdottir\\Anaconda2\\lib\\site-packages\\ipykernel_launcher.py:3: SettingWithCopyWarning: \n",
      "A value is trying to be set on a copy of a slice from a DataFrame.\n",
      "Try using .loc[row_indexer,col_indexer] = value instead\n",
      "\n",
      "See the caveats in the documentation: http://pandas.pydata.org/pandas-docs/stable/indexing.html#indexing-view-versus-copy\n",
      "  This is separate from the ipykernel package so we can avoid doing imports until\n"
     ]
    }
   ],
   "source": [
    "datafile = r\"/Users/Sunna Halldorsdottir/Desktop/Cornell/Fall/Product Studio/test.xlsx\"\n",
    "model, dataframe = createModel(df)"
   ]
  },
  {
   "cell_type": "code",
   "execution_count": null,
   "metadata": {},
   "outputs": [],
   "source": []
  }
 ],
 "metadata": {
  "kernelspec": {
   "display_name": "Python 2",
   "language": "python",
   "name": "python2"
  },
  "language_info": {
   "codemirror_mode": {
    "name": "ipython",
    "version": 2
   },
   "file_extension": ".py",
   "mimetype": "text/x-python",
   "name": "python",
   "nbconvert_exporter": "python",
   "pygments_lexer": "ipython2",
   "version": "2.7.15"
  }
 },
 "nbformat": 4,
 "nbformat_minor": 2
}
