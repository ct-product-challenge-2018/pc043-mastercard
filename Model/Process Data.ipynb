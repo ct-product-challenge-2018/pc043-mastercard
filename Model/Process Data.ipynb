{
 "cells": [
  {
   "cell_type": "code",
   "execution_count": 2,
   "metadata": {
    "collapsed": true
   },
   "outputs": [],
   "source": [
    "import pandas as pd\n",
    "import numpy as np\n",
    "import copy\n",
    "from pandas.api.types import is_string_dtype"
   ]
  },
  {
   "cell_type": "code",
   "execution_count": 3,
   "metadata": {
    "collapsed": true
   },
   "outputs": [],
   "source": [
    "# Receive datafile\n",
    "rawdata_file = r\"/Users/kathleenszabo/Documents/Cornell Tech/Product Studio/Practice_data.xlsx\"\n",
    "# rawdata_file = r\"/Users/kathleenszabo/Documents/Cornell Tech/Product Studio/b2bDataAnalysisDataset.xlsx\"\n",
    "rawdata = pd.read_excel(rawdata_file)\n",
    "categorical_or_ordered = ['Ordered', 'Categorical', 'Ordered', 'Categorical', 'Categorical']"
   ]
  },
  {
   "cell_type": "code",
   "execution_count": 4,
   "metadata": {
    "collapsed": true
   },
   "outputs": [],
   "source": [
    "def get_num_features(data):\n",
    "    return data.shape[1]"
   ]
  },
  {
   "cell_type": "code",
   "execution_count": 5,
   "metadata": {
    "collapsed": true
   },
   "outputs": [],
   "source": [
    "def get_num_observations(data):\n",
    "    return data.shape[0]"
   ]
  },
  {
   "cell_type": "code",
   "execution_count": 6,
   "metadata": {
    "collapsed": true
   },
   "outputs": [],
   "source": [
    "def get_feature_names(data):\n",
    "    return data.columns"
   ]
  },
  {
   "cell_type": "code",
   "execution_count": 7,
   "metadata": {},
   "outputs": [],
   "source": [
    "def fill_missing_data(data, categorical_or_ordered):\n",
    "    \n",
    "    filled_data = data.copy()\n",
    "    num_columns = get_num_features(filled_data)\n",
    "    \n",
    "    for i in range(num_columns):\n",
    "        \n",
    "        filler = 0\n",
    "        \n",
    "        # If it's a categorical variable, identify the mode\n",
    "        if categorical_or_ordered[i] == \"Categorical\":\n",
    "            filler = filled_data.iloc[:,i].mode()[0]\n",
    "        \n",
    "        elif categorical_or_ordered[i] == \"Not applicable\":\n",
    "            filler = \"Not applicable\"\n",
    "        \n",
    "        # If it's a numeric variable, identify the mean\n",
    "        else:\n",
    "            filler = filled_data.iloc[:,i].mean()\n",
    "        \n",
    "        # Fill blanks in that column with the appropriate value\n",
    "        filled_data.iloc[:,i] = filled_data.iloc[:,i].fillna(filler)\n",
    "        \n",
    "    \n",
    "    return filled_data\n",
    "\n",
    "filled_data = fill_missing_data(rawdata, categorical_or_ordered)"
   ]
  },
  {
   "cell_type": "code",
   "execution_count": 8,
   "metadata": {
    "collapsed": true
   },
   "outputs": [],
   "source": [
    "def convert_categorical_to_dummies(data, categorical_or_ordered):\n",
    "    \n",
    "    final_data = data.copy()\n",
    "    final_data_cols = get_feature_names(final_data)\n",
    "    dummy_columns = []\n",
    "    columns_to_drop = []\n",
    "    \n",
    "    for i in range(len(categorical_or_ordered)):\n",
    "        if categorical_or_ordered[i] == \"Categorical\":\n",
    "            dummies = pd.get_dummies(final_data.iloc[:,i])\n",
    "                        \n",
    "            new_column_names = []\n",
    "            for j in range(len(dummies.columns)):\n",
    "                new_column_names.append(str(str(final_data_cols[i]) + \"_\" + str(dummies.columns[j])))\n",
    "            \n",
    "            if final_data_cols[i] == \"Salesperson Name\":\n",
    "                new_column_names = []\n",
    "                for j in range(len(dummies.columns)):\n",
    "                    new_column_names.append(str(str(\"SP_\") + str(dummies.columns[j])))\n",
    "            \n",
    "            dummies.columns = new_column_names\n",
    "            dummy_columns.append(dummies)\n",
    "            columns_to_drop.append(final_data_cols[i])\n",
    "    \n",
    "    for i in range(len(dummy_columns)):\n",
    "        final_data = pd.concat([final_data, dummy_columns[i]], axis=1)\n",
    "    final_data = final_data.drop(columns_to_drop, axis=1)\n",
    "\n",
    "    return final_data"
   ]
  },
  {
   "cell_type": "code",
   "execution_count": 9,
   "metadata": {
    "collapsed": true
   },
   "outputs": [],
   "source": [
    "def process_data(rawdata, categorical_or_ordered):\n",
    "    \n",
    "    filled_data = fill_missing_data(rawdata, categorical_or_ordered)\n",
    "    final_data = convert_categorical_to_dummies(filled_data, categorical_or_ordered)\n",
    "\n",
    "    return final_data\n",
    "\n",
    "final_data = process_data(rawdata, categorical_or_ordered)"
   ]
  },
  {
   "cell_type": "code",
   "execution_count": null,
   "metadata": {
    "collapsed": true
   },
   "outputs": [],
   "source": []
  }
 ],
 "metadata": {
  "kernelspec": {
   "display_name": "Python 3",
   "language": "python",
   "name": "python3"
  },
  "language_info": {
   "codemirror_mode": {
    "name": "ipython",
    "version": 3
   },
   "file_extension": ".py",
   "mimetype": "text/x-python",
   "name": "python",
   "nbconvert_exporter": "python",
   "pygments_lexer": "ipython3",
   "version": "3.6.1"
  }
 },
 "nbformat": 4,
 "nbformat_minor": 2
}
